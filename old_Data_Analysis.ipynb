{
 "cells": [
  {
   "cell_type": "markdown",
   "metadata": {},
   "source": [
    "# PM4 - Data Analysis and Results"
   ]
  },
  {
   "cell_type": "markdown",
   "metadata": {},
   "source": [
    "This notebook details the data analysis and the corresponding finding regarding our datasets containing Twitter data that was obtained via the Twitter API. There were four search queries used to gather these Tweets:\n",
    "1. vaccines are poison\n",
    "2. vaccines kill\n",
    "3. vaccines cause aids\n",
    "4. vaccines cause autism"
   ]
  },
  {
   "cell_type": "markdown",
   "metadata": {},
   "source": [
    "## 1. Read in the Twitter data \n",
    "\n",
    "To work with the Twitter data we first load the corresponding csv files to our notebook. It is important to note that due to the limitations of the Twitter API, the collected data only encompasses two weeks of data collected in mid-September 2020. The tweets from each search query as well as for each collection period is stored in a different file."
   ]
  },
  {
   "cell_type": "code",
   "execution_count": 193,
   "metadata": {
    "collapsed": true
   },
   "outputs": [],
   "source": [
    "# import necessary libraries to work with our data\n",
    "import pandas as pd\n",
    "import matplotlib.pyplot as plt"
   ]
  },
  {
   "cell_type": "code",
   "execution_count": 2,
   "metadata": {
    "collapsed": true
   },
   "outputs": [],
   "source": [
    "aids_data = pd.read_csv('vaccinescauseaids_twitter_data.csv') # first week of data\n",
    "aids_data_new = pd.read_csv('vaccines+cause+aids_twitter_data_new.csv') # second week of data"
   ]
  },
  {
   "cell_type": "code",
   "execution_count": 17,
   "metadata": {
    "collapsed": false
   },
   "outputs": [],
   "source": [
    "vaccines_kill = pd.read_csv('vaccineskill_twitter_data.csv') # first week of data\n",
    "vaccines_kill_new = pd.read_csv('vaccines_kill_twitter_data_new.csv', lineterminator='\\n')  # second week of data"
   ]
  },
  {
   "cell_type": "code",
   "execution_count": 18,
   "metadata": {
    "collapsed": false
   },
   "outputs": [],
   "source": [
    "autism_data = pd.read_csv(\"vaccinescauseautism_twitter_data.csv\", lineterminator='\\n')\n",
    "autism_data_new = pd.read_csv(\"vaccines+cause+autism_twitter_data_new.csv\")"
   ]
  },
  {
   "cell_type": "code",
   "execution_count": 19,
   "metadata": {
    "collapsed": false
   },
   "outputs": [],
   "source": [
    "vaccines_poison = pd.read_csv('vaccinesarepoison_twitter_data.csv') # first week of data\n",
    "vaccines_poison_new = pd.read_csv('vaccines+are+poison_twitter_data_new.csv', lineterminator='\\n')  # second week of data"
   ]
  },
  {
   "cell_type": "code",
   "execution_count": 20,
   "metadata": {
    "collapsed": false
   },
   "outputs": [
    {
     "data": {
      "text/html": [
       "<div>\n",
       "<style scoped>\n",
       "    .dataframe tbody tr th:only-of-type {\n",
       "        vertical-align: middle;\n",
       "    }\n",
       "\n",
       "    .dataframe tbody tr th {\n",
       "        vertical-align: top;\n",
       "    }\n",
       "\n",
       "    .dataframe thead th {\n",
       "        text-align: right;\n",
       "    }\n",
       "</style>\n",
       "<table border=\"1\" class=\"dataframe\">\n",
       "  <thead>\n",
       "    <tr style=\"text-align: right;\">\n",
       "      <th></th>\n",
       "      <th>username</th>\n",
       "      <th>acctdesc</th>\n",
       "      <th>location</th>\n",
       "      <th>following</th>\n",
       "      <th>followers</th>\n",
       "      <th>totaltweets</th>\n",
       "      <th>usercreatedts</th>\n",
       "      <th>tweetcreatedts</th>\n",
       "      <th>retweetcount</th>\n",
       "      <th>text</th>\n",
       "      <th>hashtags</th>\n",
       "    </tr>\n",
       "  </thead>\n",
       "  <tbody>\n",
       "    <tr>\n",
       "      <th>0</th>\n",
       "      <td>RaevenRaeyne</td>\n",
       "      <td>Truth Seeker * Wanderer * Starseeds* 🌏 💫  👽 🛸 ...</td>\n",
       "      <td>Earth</td>\n",
       "      <td>882</td>\n",
       "      <td>567</td>\n",
       "      <td>10342</td>\n",
       "      <td>2018-11-20 00:28:04</td>\n",
       "      <td>2020-09-21 15:46:36</td>\n",
       "      <td>1</td>\n",
       "      <td>@BackIam5 @QohnG After working in a pharmacy w...</td>\n",
       "      <td>[]</td>\n",
       "    </tr>\n",
       "    <tr>\n",
       "      <th>1</th>\n",
       "      <td>Jennife08379969</td>\n",
       "      <td>Mom to three amazing kids, conservative, Chris...</td>\n",
       "      <td>Washington, USA</td>\n",
       "      <td>1660</td>\n",
       "      <td>1880</td>\n",
       "      <td>15406</td>\n",
       "      <td>2017-12-09 08:34:24</td>\n",
       "      <td>2020-09-21 15:39:21</td>\n",
       "      <td>1</td>\n",
       "      <td>@Frank38328140 @marklevinshow There's a reason...</td>\n",
       "      <td>[]</td>\n",
       "    </tr>\n",
       "    <tr>\n",
       "      <th>2</th>\n",
       "      <td>borderowl62</td>\n",
       "      <td>Black Labs Matter. Dont let the 1% divide us. ...</td>\n",
       "      <td>North Britain</td>\n",
       "      <td>248</td>\n",
       "      <td>233</td>\n",
       "      <td>3379</td>\n",
       "      <td>2020-04-15 11:40:32</td>\n",
       "      <td>2020-09-21 15:35:24</td>\n",
       "      <td>5</td>\n",
       "      <td>@HegKong All vaccines are pure poison Fraud th...</td>\n",
       "      <td>[]</td>\n",
       "    </tr>\n",
       "    <tr>\n",
       "      <th>3</th>\n",
       "      <td>NumberOneMelon</td>\n",
       "      <td>Same</td>\n",
       "      <td>NaN</td>\n",
       "      <td>55</td>\n",
       "      <td>58</td>\n",
       "      <td>325</td>\n",
       "      <td>2019-06-30 06:54:00</td>\n",
       "      <td>2020-09-21 14:50:16</td>\n",
       "      <td>0</td>\n",
       "      <td>Here’s a trivia for ya \\n\\n1. The Earth ISNT f...</td>\n",
       "      <td>[]</td>\n",
       "    </tr>\n",
       "    <tr>\n",
       "      <th>4</th>\n",
       "      <td>AmyLaskyMD</td>\n",
       "      <td>Academic OBGYN | Pelvic Sorceress &amp; Life-Bring...</td>\n",
       "      <td>Port Jefferson, NY</td>\n",
       "      <td>965</td>\n",
       "      <td>4671</td>\n",
       "      <td>5986</td>\n",
       "      <td>2017-08-12 14:27:14</td>\n",
       "      <td>2020-09-21 14:19:11</td>\n",
       "      <td>80</td>\n",
       "      <td>Mine is “tOxInS.”\\n\\nLike water can be a poiso...</td>\n",
       "      <td>[]</td>\n",
       "    </tr>\n",
       "  </tbody>\n",
       "</table>\n",
       "</div>"
      ],
      "text/plain": [
       "          username                                           acctdesc  \\\n",
       "0     RaevenRaeyne  Truth Seeker * Wanderer * Starseeds* 🌏 💫  👽 🛸 ...   \n",
       "1  Jennife08379969  Mom to three amazing kids, conservative, Chris...   \n",
       "2      borderowl62  Black Labs Matter. Dont let the 1% divide us. ...   \n",
       "3   NumberOneMelon                                               Same   \n",
       "4       AmyLaskyMD  Academic OBGYN | Pelvic Sorceress & Life-Bring...   \n",
       "\n",
       "             location  following  followers  totaltweets        usercreatedts  \\\n",
       "0               Earth        882        567        10342  2018-11-20 00:28:04   \n",
       "1     Washington, USA       1660       1880        15406  2017-12-09 08:34:24   \n",
       "2       North Britain        248        233         3379  2020-04-15 11:40:32   \n",
       "3                 NaN         55         58          325  2019-06-30 06:54:00   \n",
       "4  Port Jefferson, NY        965       4671         5986  2017-08-12 14:27:14   \n",
       "\n",
       "        tweetcreatedts  retweetcount  \\\n",
       "0  2020-09-21 15:46:36             1   \n",
       "1  2020-09-21 15:39:21             1   \n",
       "2  2020-09-21 15:35:24             5   \n",
       "3  2020-09-21 14:50:16             0   \n",
       "4  2020-09-21 14:19:11            80   \n",
       "\n",
       "                                                text hashtags  \n",
       "0  @BackIam5 @QohnG After working in a pharmacy w...       []  \n",
       "1  @Frank38328140 @marklevinshow There's a reason...       []  \n",
       "2  @HegKong All vaccines are pure poison Fraud th...       []  \n",
       "3  Here’s a trivia for ya \\n\\n1. The Earth ISNT f...       []  \n",
       "4  Mine is “tOxInS.”\\n\\nLike water can be a poiso...       []  "
      ]
     },
     "execution_count": 20,
     "metadata": {},
     "output_type": "execute_result"
    }
   ],
   "source": [
    "vaccines_poison.head() # get a better sense of the data"
   ]
  },
  {
   "cell_type": "markdown",
   "metadata": {},
   "source": [
    "## 2. Comparing the volume of Tweets\n",
    "After having loaded the different datasets we would like to compare them and determine the number of Tweets that each of the search queries specified above yielded. "
   ]
  },
  {
   "cell_type": "code",
   "execution_count": 77,
   "metadata": {
    "collapsed": false
   },
   "outputs": [],
   "source": [
    "# gather all datasets \n",
    "datasets = [aids_data, aids_data_new, vaccines_kill, vaccines_kill_new, autism_data, autism_data_new, \n",
    "            vaccines_poison, vaccines_poison_new]"
   ]
  },
  {
   "cell_type": "code",
   "execution_count": 78,
   "metadata": {
    "collapsed": true
   },
   "outputs": [],
   "source": [
    "# gathering the number of rows in each dataset\n",
    "numRows = [data.shape[0] for data in datasets] "
   ]
  },
  {
   "cell_type": "code",
   "execution_count": 79,
   "metadata": {
    "collapsed": false
   },
   "outputs": [],
   "source": [
    "# creating a column with our data set names\n",
    "def get_df_name(df):\n",
    "    name =[x for x in globals() if globals()[x] is df][0]\n",
    "    return name\n",
    "\n",
    "names = [get_df_name(d) for d in datasets] \n"
   ]
  },
  {
   "cell_type": "code",
   "execution_count": 80,
   "metadata": {
    "collapsed": false
   },
   "outputs": [],
   "source": [
    "tweetTable = pd.DataFrame(names, columns = ['dataset'])\n",
    "tweetTable['numtweets'] = numRows"
   ]
  },
  {
   "cell_type": "code",
   "execution_count": 81,
   "metadata": {
    "collapsed": false
   },
   "outputs": [
    {
     "data": {
      "text/html": [
       "<div>\n",
       "<style scoped>\n",
       "    .dataframe tbody tr th:only-of-type {\n",
       "        vertical-align: middle;\n",
       "    }\n",
       "\n",
       "    .dataframe tbody tr th {\n",
       "        vertical-align: top;\n",
       "    }\n",
       "\n",
       "    .dataframe thead th {\n",
       "        text-align: right;\n",
       "    }\n",
       "</style>\n",
       "<table border=\"1\" class=\"dataframe\">\n",
       "  <thead>\n",
       "    <tr style=\"text-align: right;\">\n",
       "      <th></th>\n",
       "      <th>dataset</th>\n",
       "      <th>numtweets</th>\n",
       "    </tr>\n",
       "  </thead>\n",
       "  <tbody>\n",
       "    <tr>\n",
       "      <th>0</th>\n",
       "      <td>aids_data</td>\n",
       "      <td>186</td>\n",
       "    </tr>\n",
       "    <tr>\n",
       "      <th>1</th>\n",
       "      <td>aids_data_new</td>\n",
       "      <td>496</td>\n",
       "    </tr>\n",
       "    <tr>\n",
       "      <th>2</th>\n",
       "      <td>vaccines_kill</td>\n",
       "      <td>630</td>\n",
       "    </tr>\n",
       "    <tr>\n",
       "      <th>3</th>\n",
       "      <td>vaccines_kill_new</td>\n",
       "      <td>1497</td>\n",
       "    </tr>\n",
       "    <tr>\n",
       "      <th>4</th>\n",
       "      <td>autism_data</td>\n",
       "      <td>5194</td>\n",
       "    </tr>\n",
       "    <tr>\n",
       "      <th>5</th>\n",
       "      <td>autism_data_new</td>\n",
       "      <td>1808</td>\n",
       "    </tr>\n",
       "    <tr>\n",
       "      <th>6</th>\n",
       "      <td>vaccines_poison</td>\n",
       "      <td>632</td>\n",
       "    </tr>\n",
       "    <tr>\n",
       "      <th>7</th>\n",
       "      <td>vaccines_poison_new</td>\n",
       "      <td>240</td>\n",
       "    </tr>\n",
       "  </tbody>\n",
       "</table>\n",
       "</div>"
      ],
      "text/plain": [
       "               dataset  numtweets\n",
       "0            aids_data        186\n",
       "1        aids_data_new        496\n",
       "2        vaccines_kill        630\n",
       "3    vaccines_kill_new       1497\n",
       "4          autism_data       5194\n",
       "5      autism_data_new       1808\n",
       "6      vaccines_poison        632\n",
       "7  vaccines_poison_new        240"
      ]
     },
     "execution_count": 81,
     "metadata": {},
     "output_type": "execute_result"
    }
   ],
   "source": [
    "tweetTable"
   ]
  },
  {
   "cell_type": "code",
   "execution_count": 82,
   "metadata": {
    "collapsed": false
   },
   "outputs": [
    {
     "data": {
      "text/plain": [
       "10683"
      ]
     },
     "execution_count": 82,
     "metadata": {},
     "output_type": "execute_result"
    }
   ],
   "source": [
    "# number of tweets in our datasets \n",
    "tweetTable['numtweets'].sum()"
   ]
  },
  {
   "cell_type": "markdown",
   "metadata": {},
   "source": [
    "## 3. Identifying top accounts\n",
    "In the next step, we will look at each dataset individually as well as the combined datasets for each query to identify the users who have tweeted the most"
   ]
  },
  {
   "cell_type": "code",
   "execution_count": 110,
   "metadata": {
    "collapsed": true
   },
   "outputs": [],
   "source": [
    "# merging the datasets, one for each search query\n",
    "aids = [aids_data, aids_data_new]\n",
    "aids_all = pd.concat(aids)\n",
    "\n",
    "kill = [vaccines_kill, vaccines_kill_new]\n",
    "kill_all = pd.concat(kill)\n",
    "\n",
    "autism = [autism_data, autism_data_new]\n",
    "autism_all = pd.concat(autism)\n",
    "\n",
    "poison = [vaccines_poison, vaccines_poison_new]\n",
    "poison_all = pd.concat(poison)\n",
    "\n",
    "datasets_merged = [aids_all,kill_all,autism_all,poison_all]\n",
    "\n",
    "all_data = pd.concat(datasets) # datasets will all tweets"
   ]
  },
  {
   "cell_type": "code",
   "execution_count": 118,
   "metadata": {
    "collapsed": true
   },
   "outputs": [],
   "source": [
    "import collections\n",
    "import itertools\n",
    "\n",
    "def topAccounts(data, topNum):\n",
    "    \"\"\"\n",
    "    given a datasets returns the specified number (topNum of them) of accounts who tweeted the most \n",
    "    \"\"\"\n",
    "    freqCount = data['username'].value_counts() # counts the frequency of each username\n",
    "    freqDict = freqCount.to_dict() # creates a frequency dictionary\n",
    "    \n",
    "    sorted_data = collections.OrderedDict(freqDict) # conversion to a sorted dictionary\n",
    "    # Initialize limit  \n",
    "    N = topNum # number of top tweeters we want to collect  \n",
    "    topTweeters = dict(itertools.islice(sorted_data.items(), N))\n",
    "    return topTweeters"
   ]
  },
  {
   "cell_type": "markdown",
   "metadata": {},
   "source": [
    "## 3.1 Identifying top accounts in individual datasets"
   ]
  },
  {
   "cell_type": "code",
   "execution_count": 119,
   "metadata": {
    "collapsed": false
   },
   "outputs": [
    {
     "data": {
      "text/plain": [
       "{'yyoo11122': 29,\n",
       " 'JambunathanC': 22,\n",
       " 'EpigeneticWhisp': 9,\n",
       " 'ByronHsu2': 7,\n",
       " 'Badassherbalist': 6,\n",
       " 'IkNihcas': 5,\n",
       " 'garrisonrich1': 5,\n",
       " 'leighwh68987693': 5,\n",
       " 'TomthunkitsMind': 4,\n",
       " 'Philosophystew': 4}"
      ]
     },
     "execution_count": 119,
     "metadata": {},
     "output_type": "execute_result"
    }
   ],
   "source": [
    "allTopAccounts = [topAccounts(d,10) for d in datasets] # identifies top 10 accounts in each dataset\n",
    "\n",
    "allTopAccounts[3] # a sample output for our dataset for the search query vaccines kill"
   ]
  },
  {
   "cell_type": "code",
   "execution_count": 120,
   "metadata": {
    "collapsed": false
   },
   "outputs": [],
   "source": [
    "tweetTable[\"topaccounts\"] = allTopAccounts # add a column to our table about our tweet data "
   ]
  },
  {
   "cell_type": "code",
   "execution_count": 121,
   "metadata": {
    "collapsed": false
   },
   "outputs": [
    {
     "data": {
      "text/html": [
       "<div>\n",
       "<style scoped>\n",
       "    .dataframe tbody tr th:only-of-type {\n",
       "        vertical-align: middle;\n",
       "    }\n",
       "\n",
       "    .dataframe tbody tr th {\n",
       "        vertical-align: top;\n",
       "    }\n",
       "\n",
       "    .dataframe thead th {\n",
       "        text-align: right;\n",
       "    }\n",
       "</style>\n",
       "<table border=\"1\" class=\"dataframe\">\n",
       "  <thead>\n",
       "    <tr style=\"text-align: right;\">\n",
       "      <th></th>\n",
       "      <th>dataset</th>\n",
       "      <th>numtweets</th>\n",
       "      <th>topaccounts</th>\n",
       "    </tr>\n",
       "  </thead>\n",
       "  <tbody>\n",
       "    <tr>\n",
       "      <th>0</th>\n",
       "      <td>aids_data</td>\n",
       "      <td>186</td>\n",
       "      <td>{'PaulVCooper1': 8, 'jeremynewberger': 4, 'drg...</td>\n",
       "    </tr>\n",
       "    <tr>\n",
       "      <th>1</th>\n",
       "      <td>aids_data_new</td>\n",
       "      <td>496</td>\n",
       "      <td>{'rosanthony3': 3, 'jesteinf': 3, 'PattiDB': 3...</td>\n",
       "    </tr>\n",
       "    <tr>\n",
       "      <th>2</th>\n",
       "      <td>vaccines_kill</td>\n",
       "      <td>630</td>\n",
       "      <td>{'Patriot___News': 8, 'bridb': 6, 'Soliloquyof...</td>\n",
       "    </tr>\n",
       "    <tr>\n",
       "      <th>3</th>\n",
       "      <td>vaccines_kill_new</td>\n",
       "      <td>1497</td>\n",
       "      <td>{'yyoo11122': 29, 'JambunathanC': 22, 'Epigene...</td>\n",
       "    </tr>\n",
       "    <tr>\n",
       "      <th>4</th>\n",
       "      <td>autism_data</td>\n",
       "      <td>5194</td>\n",
       "      <td>{'PaulVCooper1': 32, '80sRetro_Girl': 32, 'Lot...</td>\n",
       "    </tr>\n",
       "    <tr>\n",
       "      <th>5</th>\n",
       "      <td>autism_data_new</td>\n",
       "      <td>1808</td>\n",
       "      <td>{'80sRetro_Girl': 23, 'LotusOak2': 15, 'Epigen...</td>\n",
       "    </tr>\n",
       "    <tr>\n",
       "      <th>6</th>\n",
       "      <td>vaccines_poison</td>\n",
       "      <td>632</td>\n",
       "      <td>{'Patriot___News': 8, 'bridb': 6, 'rudee_al': ...</td>\n",
       "    </tr>\n",
       "    <tr>\n",
       "      <th>7</th>\n",
       "      <td>vaccines_poison_new</td>\n",
       "      <td>240</td>\n",
       "      <td>{'EpigeneticWhisp': 10, 'MelindaFirst100': 4, ...</td>\n",
       "    </tr>\n",
       "  </tbody>\n",
       "</table>\n",
       "</div>"
      ],
      "text/plain": [
       "               dataset  numtweets  \\\n",
       "0            aids_data        186   \n",
       "1        aids_data_new        496   \n",
       "2        vaccines_kill        630   \n",
       "3    vaccines_kill_new       1497   \n",
       "4          autism_data       5194   \n",
       "5      autism_data_new       1808   \n",
       "6      vaccines_poison        632   \n",
       "7  vaccines_poison_new        240   \n",
       "\n",
       "                                         topaccounts  \n",
       "0  {'PaulVCooper1': 8, 'jeremynewberger': 4, 'drg...  \n",
       "1  {'rosanthony3': 3, 'jesteinf': 3, 'PattiDB': 3...  \n",
       "2  {'Patriot___News': 8, 'bridb': 6, 'Soliloquyof...  \n",
       "3  {'yyoo11122': 29, 'JambunathanC': 22, 'Epigene...  \n",
       "4  {'PaulVCooper1': 32, '80sRetro_Girl': 32, 'Lot...  \n",
       "5  {'80sRetro_Girl': 23, 'LotusOak2': 15, 'Epigen...  \n",
       "6  {'Patriot___News': 8, 'bridb': 6, 'rudee_al': ...  \n",
       "7  {'EpigeneticWhisp': 10, 'MelindaFirst100': 4, ...  "
      ]
     },
     "execution_count": 121,
     "metadata": {},
     "output_type": "execute_result"
    }
   ],
   "source": [
    "tweetTable # how our table looks after adding column with top accounts "
   ]
  },
  {
   "cell_type": "markdown",
   "metadata": {},
   "source": [
    "## 3.2 Identifying top accounts for each search query\n",
    "After having examined the top accounts for each dataset we look at the data for each search query as a whole and look to see if there are any differences in comparison to our findings from before."
   ]
  },
  {
   "cell_type": "code",
   "execution_count": 189,
   "metadata": {
    "collapsed": false
   },
   "outputs": [],
   "source": [
    "topAcct = [topAccounts(d,10) for d in datasets_merged]\n",
    "accountFreq = [topAccounts(d,d.shape[0]) for d in datasets_merged] # frequency of all accounts"
   ]
  },
  {
   "cell_type": "code",
   "execution_count": 141,
   "metadata": {
    "collapsed": false
   },
   "outputs": [
    {
     "data": {
      "text/html": [
       "<div>\n",
       "<style scoped>\n",
       "    .dataframe tbody tr th:only-of-type {\n",
       "        vertical-align: middle;\n",
       "    }\n",
       "\n",
       "    .dataframe tbody tr th {\n",
       "        vertical-align: top;\n",
       "    }\n",
       "\n",
       "    .dataframe thead th {\n",
       "        text-align: right;\n",
       "    }\n",
       "</style>\n",
       "<table border=\"1\" class=\"dataframe\">\n",
       "  <thead>\n",
       "    <tr style=\"text-align: right;\">\n",
       "      <th></th>\n",
       "      <th>aids_all</th>\n",
       "      <th>kill_all</th>\n",
       "      <th>autism_all</th>\n",
       "      <th>poison_all</th>\n",
       "    </tr>\n",
       "  </thead>\n",
       "  <tbody>\n",
       "    <tr>\n",
       "      <th>PaulVCooper1</th>\n",
       "      <td>9.0</td>\n",
       "      <td>NaN</td>\n",
       "      <td>34.0</td>\n",
       "      <td>NaN</td>\n",
       "    </tr>\n",
       "    <tr>\n",
       "      <th>jeremynewberger</th>\n",
       "      <td>4.0</td>\n",
       "      <td>NaN</td>\n",
       "      <td>NaN</td>\n",
       "      <td>NaN</td>\n",
       "    </tr>\n",
       "    <tr>\n",
       "      <th>PattiDB</th>\n",
       "      <td>3.0</td>\n",
       "      <td>NaN</td>\n",
       "      <td>NaN</td>\n",
       "      <td>NaN</td>\n",
       "    </tr>\n",
       "    <tr>\n",
       "      <th>yepitsthatmatt</th>\n",
       "      <td>3.0</td>\n",
       "      <td>NaN</td>\n",
       "      <td>NaN</td>\n",
       "      <td>NaN</td>\n",
       "    </tr>\n",
       "    <tr>\n",
       "      <th>jesteinf</th>\n",
       "      <td>3.0</td>\n",
       "      <td>NaN</td>\n",
       "      <td>NaN</td>\n",
       "      <td>NaN</td>\n",
       "    </tr>\n",
       "    <tr>\n",
       "      <th>rosanthony3</th>\n",
       "      <td>3.0</td>\n",
       "      <td>NaN</td>\n",
       "      <td>NaN</td>\n",
       "      <td>NaN</td>\n",
       "    </tr>\n",
       "    <tr>\n",
       "      <th>jneutron1969</th>\n",
       "      <td>3.0</td>\n",
       "      <td>NaN</td>\n",
       "      <td>NaN</td>\n",
       "      <td>NaN</td>\n",
       "    </tr>\n",
       "    <tr>\n",
       "      <th>srobinson2020</th>\n",
       "      <td>2.0</td>\n",
       "      <td>NaN</td>\n",
       "      <td>NaN</td>\n",
       "      <td>NaN</td>\n",
       "    </tr>\n",
       "    <tr>\n",
       "      <th>alexpokerguy</th>\n",
       "      <td>2.0</td>\n",
       "      <td>NaN</td>\n",
       "      <td>NaN</td>\n",
       "      <td>NaN</td>\n",
       "    </tr>\n",
       "    <tr>\n",
       "      <th>CindyDeetz</th>\n",
       "      <td>2.0</td>\n",
       "      <td>NaN</td>\n",
       "      <td>NaN</td>\n",
       "      <td>NaN</td>\n",
       "    </tr>\n",
       "    <tr>\n",
       "      <th>yyoo11122</th>\n",
       "      <td>NaN</td>\n",
       "      <td>29.0</td>\n",
       "      <td>NaN</td>\n",
       "      <td>NaN</td>\n",
       "    </tr>\n",
       "    <tr>\n",
       "      <th>JambunathanC</th>\n",
       "      <td>NaN</td>\n",
       "      <td>22.0</td>\n",
       "      <td>NaN</td>\n",
       "      <td>NaN</td>\n",
       "    </tr>\n",
       "    <tr>\n",
       "      <th>EpigeneticWhisp</th>\n",
       "      <td>NaN</td>\n",
       "      <td>13.0</td>\n",
       "      <td>38.0</td>\n",
       "      <td>14.0</td>\n",
       "    </tr>\n",
       "    <tr>\n",
       "      <th>Patriot___News</th>\n",
       "      <td>NaN</td>\n",
       "      <td>8.0</td>\n",
       "      <td>NaN</td>\n",
       "      <td>8.0</td>\n",
       "    </tr>\n",
       "    <tr>\n",
       "      <th>ByronHsu2</th>\n",
       "      <td>NaN</td>\n",
       "      <td>7.0</td>\n",
       "      <td>NaN</td>\n",
       "      <td>NaN</td>\n",
       "    </tr>\n",
       "    <tr>\n",
       "      <th>Badassherbalist</th>\n",
       "      <td>NaN</td>\n",
       "      <td>6.0</td>\n",
       "      <td>NaN</td>\n",
       "      <td>NaN</td>\n",
       "    </tr>\n",
       "    <tr>\n",
       "      <th>bridb</th>\n",
       "      <td>NaN</td>\n",
       "      <td>6.0</td>\n",
       "      <td>NaN</td>\n",
       "      <td>6.0</td>\n",
       "    </tr>\n",
       "    <tr>\n",
       "      <th>TraceScorch</th>\n",
       "      <td>NaN</td>\n",
       "      <td>5.0</td>\n",
       "      <td>NaN</td>\n",
       "      <td>NaN</td>\n",
       "    </tr>\n",
       "    <tr>\n",
       "      <th>kristenhinkson</th>\n",
       "      <td>NaN</td>\n",
       "      <td>5.0</td>\n",
       "      <td>NaN</td>\n",
       "      <td>4.0</td>\n",
       "    </tr>\n",
       "    <tr>\n",
       "      <th>MelindaFirst100</th>\n",
       "      <td>NaN</td>\n",
       "      <td>5.0</td>\n",
       "      <td>NaN</td>\n",
       "      <td>8.0</td>\n",
       "    </tr>\n",
       "    <tr>\n",
       "      <th>80sRetro_Girl</th>\n",
       "      <td>NaN</td>\n",
       "      <td>NaN</td>\n",
       "      <td>55.0</td>\n",
       "      <td>NaN</td>\n",
       "    </tr>\n",
       "    <tr>\n",
       "      <th>LotusOak2</th>\n",
       "      <td>NaN</td>\n",
       "      <td>NaN</td>\n",
       "      <td>45.0</td>\n",
       "      <td>NaN</td>\n",
       "    </tr>\n",
       "    <tr>\n",
       "      <th>andrewmorrisuk</th>\n",
       "      <td>NaN</td>\n",
       "      <td>NaN</td>\n",
       "      <td>39.0</td>\n",
       "      <td>NaN</td>\n",
       "    </tr>\n",
       "    <tr>\n",
       "      <th>NotATweeter16</th>\n",
       "      <td>NaN</td>\n",
       "      <td>NaN</td>\n",
       "      <td>28.0</td>\n",
       "      <td>NaN</td>\n",
       "    </tr>\n",
       "    <tr>\n",
       "      <th>acagoldsmith</th>\n",
       "      <td>NaN</td>\n",
       "      <td>NaN</td>\n",
       "      <td>28.0</td>\n",
       "      <td>NaN</td>\n",
       "    </tr>\n",
       "    <tr>\n",
       "      <th>lulu111593</th>\n",
       "      <td>NaN</td>\n",
       "      <td>NaN</td>\n",
       "      <td>20.0</td>\n",
       "      <td>NaN</td>\n",
       "    </tr>\n",
       "    <tr>\n",
       "      <th>DavidHadley1973</th>\n",
       "      <td>NaN</td>\n",
       "      <td>NaN</td>\n",
       "      <td>19.0</td>\n",
       "      <td>NaN</td>\n",
       "    </tr>\n",
       "    <tr>\n",
       "      <th>Iconoclastttt</th>\n",
       "      <td>NaN</td>\n",
       "      <td>NaN</td>\n",
       "      <td>19.0</td>\n",
       "      <td>NaN</td>\n",
       "    </tr>\n",
       "    <tr>\n",
       "      <th>Soliloquyoflib1</th>\n",
       "      <td>NaN</td>\n",
       "      <td>NaN</td>\n",
       "      <td>NaN</td>\n",
       "      <td>4.0</td>\n",
       "    </tr>\n",
       "    <tr>\n",
       "      <th>bois0917</th>\n",
       "      <td>NaN</td>\n",
       "      <td>NaN</td>\n",
       "      <td>NaN</td>\n",
       "      <td>4.0</td>\n",
       "    </tr>\n",
       "    <tr>\n",
       "      <th>MrWillFairfield</th>\n",
       "      <td>NaN</td>\n",
       "      <td>NaN</td>\n",
       "      <td>NaN</td>\n",
       "      <td>4.0</td>\n",
       "    </tr>\n",
       "    <tr>\n",
       "      <th>DanEvans1986</th>\n",
       "      <td>NaN</td>\n",
       "      <td>NaN</td>\n",
       "      <td>NaN</td>\n",
       "      <td>4.0</td>\n",
       "    </tr>\n",
       "    <tr>\n",
       "      <th>Pythago38919500</th>\n",
       "      <td>NaN</td>\n",
       "      <td>NaN</td>\n",
       "      <td>NaN</td>\n",
       "      <td>4.0</td>\n",
       "    </tr>\n",
       "  </tbody>\n",
       "</table>\n",
       "</div>"
      ],
      "text/plain": [
       "                 aids_all  kill_all  autism_all  poison_all\n",
       "PaulVCooper1          9.0       NaN        34.0         NaN\n",
       "jeremynewberger       4.0       NaN         NaN         NaN\n",
       "PattiDB               3.0       NaN         NaN         NaN\n",
       "yepitsthatmatt        3.0       NaN         NaN         NaN\n",
       "jesteinf              3.0       NaN         NaN         NaN\n",
       "rosanthony3           3.0       NaN         NaN         NaN\n",
       "jneutron1969          3.0       NaN         NaN         NaN\n",
       "srobinson2020         2.0       NaN         NaN         NaN\n",
       "alexpokerguy          2.0       NaN         NaN         NaN\n",
       "CindyDeetz            2.0       NaN         NaN         NaN\n",
       "yyoo11122             NaN      29.0         NaN         NaN\n",
       "JambunathanC          NaN      22.0         NaN         NaN\n",
       "EpigeneticWhisp       NaN      13.0        38.0        14.0\n",
       "Patriot___News        NaN       8.0         NaN         8.0\n",
       "ByronHsu2             NaN       7.0         NaN         NaN\n",
       "Badassherbalist       NaN       6.0         NaN         NaN\n",
       "bridb                 NaN       6.0         NaN         6.0\n",
       "TraceScorch           NaN       5.0         NaN         NaN\n",
       "kristenhinkson        NaN       5.0         NaN         4.0\n",
       "MelindaFirst100       NaN       5.0         NaN         8.0\n",
       "80sRetro_Girl         NaN       NaN        55.0         NaN\n",
       "LotusOak2             NaN       NaN        45.0         NaN\n",
       "andrewmorrisuk        NaN       NaN        39.0         NaN\n",
       "NotATweeter16         NaN       NaN        28.0         NaN\n",
       "acagoldsmith          NaN       NaN        28.0         NaN\n",
       "lulu111593            NaN       NaN        20.0         NaN\n",
       "DavidHadley1973       NaN       NaN        19.0         NaN\n",
       "Iconoclastttt         NaN       NaN        19.0         NaN\n",
       "Soliloquyoflib1       NaN       NaN         NaN         4.0\n",
       "bois0917              NaN       NaN         NaN         4.0\n",
       "MrWillFairfield       NaN       NaN         NaN         4.0\n",
       "DanEvans1986          NaN       NaN         NaN         4.0\n",
       "Pythago38919500       NaN       NaN         NaN         4.0"
      ]
     },
     "execution_count": 141,
     "metadata": {},
     "output_type": "execute_result"
    }
   ],
   "source": [
    "# extract names of our merged datasets \n",
    "datasetNames = [get_df_name(df) for df in datasets_merged]\n",
    "\n",
    "# create dataframe with our account data \n",
    "topAcct_df = pd.DataFrame(topAcct).T\n",
    "topAcct_df.columns = datasetNames\n",
    "\n",
    "topAcct_df # top accounts for all datasets and where they appear"
   ]
  },
  {
   "cell_type": "code",
   "execution_count": 139,
   "metadata": {
    "collapsed": false
   },
   "outputs": [
    {
     "data": {
      "text/plain": [
       "(33, 4)"
      ]
     },
     "execution_count": 139,
     "metadata": {},
     "output_type": "execute_result"
    }
   ],
   "source": [
    "topAcct_df.shape # gives us the number of top accounts over all 4 accounts "
   ]
  },
  {
   "cell_type": "code",
   "execution_count": 195,
   "metadata": {
    "collapsed": false
   },
   "outputs": [
    {
     "data": {
      "text/plain": [
       "[            username  numTweets\n",
       " 0       PaulVCooper1          9\n",
       " 1    jeremynewberger          4\n",
       " 2            PattiDB          3\n",
       " 3     yepitsthatmatt          3\n",
       " 4           jesteinf          3\n",
       " ..               ...        ...\n",
       " 554       MartyrWith          1\n",
       " 555     MonkyThunder          1\n",
       " 556  murrayjohnsonjr          1\n",
       " 557       theTonyGee          1\n",
       " 558    CreateToRebel          1\n",
       " \n",
       " [559 rows x 2 columns],\n",
       "              username  numTweets\n",
       " 0           yyoo11122         29\n",
       " 1        JambunathanC         22\n",
       " 2     EpigeneticWhisp         13\n",
       " 3      Patriot___News          8\n",
       " 4           ByronHsu2          7\n",
       " ...               ...        ...\n",
       " 1591     CoyleMalcolm          1\n",
       " 1592   NadiaAbril1991          1\n",
       " 1593       cuddle0000          1\n",
       " 1594           AS332L          1\n",
       " 1595  Barbara45815793          1\n",
       " \n",
       " [1596 rows x 2 columns],\n",
       "              username  numTweets\n",
       " 0       80sRetro_Girl         55\n",
       " 1           LotusOak2         45\n",
       " 2      andrewmorrisuk         39\n",
       " 3     EpigeneticWhisp         38\n",
       " 4        PaulVCooper1         34\n",
       " ...               ...        ...\n",
       " 3685    PamelaAranyos          1\n",
       " 3686          AbangC2          1\n",
       " 3687     mkeGingerGal          1\n",
       " 3688     KremlingKOOL          1\n",
       " 3689   memphisbelle88          1\n",
       " \n",
       " [3690 rows x 2 columns],\n",
       "             username  numTweets\n",
       " 0    EpigeneticWhisp         14\n",
       " 1    MelindaFirst100          8\n",
       " 2     Patriot___News          8\n",
       " 3              bridb          6\n",
       " 4    Soliloquyoflib1          4\n",
       " ..               ...        ...\n",
       " 497        softreeds          1\n",
       " 498       MikeLawlor          1\n",
       " 499  CommonGroundCan          1\n",
       " 500          4LifeRN          1\n",
       " 501          AxarNeo          1\n",
       " \n",
       " [502 rows x 2 columns]]"
      ]
     },
     "execution_count": 195,
     "metadata": {},
     "output_type": "execute_result"
    }
   ],
   "source": [
    "dataFramesList = [pd.DataFrame(accountFreq[i].items(), columns = [\"username\", \"numTweets\"]) \n",
    "                  for i in range(len(datasets_merged))]\n",
    "dataFramesList"
   ]
  },
  {
   "cell_type": "code",
   "execution_count": 205,
   "metadata": {
    "collapsed": false
   },
   "outputs": [],
   "source": [
    "def plotFrequency(dataframe, dataName):\n",
    "    ax = dataframe.groupby('numTweets').count().plot.bar()\n",
    "    plt.title(\"Number of tweets for users from \" + dataName + \" dataset\")\n",
    "    ax.set_xlabel(\"number of tweets\")\n",
    "    ax.set_ylabel(\"frequency\")\n"
   ]
  },
  {
   "cell_type": "code",
   "execution_count": 209,
   "metadata": {
    "collapsed": false
   },
   "outputs": [
    {
     "data": {
      "image/png": "[encoded data removed]",
      "text/plain": [
       "<Figure size 432x288 with 1 Axes>"
      ]
     },
     "metadata": {
      "needs_background": "light"
     },
     "output_type": "display_data"
    },
    {
     "data": {
      "image/png": "[encoded data removed]",
      "text/plain": [
       "<Figure size 432x288 with 1 Axes>"
      ]
     },
     "metadata": {
      "needs_background": "light"
     },
     "output_type": "display_data"
    },
    {
     "data": {
      "image/png": "[encoded data removed]",
      "text/plain": [
       "<Figure size 432x288 with 1 Axes>"
      ]
     },
     "metadata": {
      "needs_background": "light"
     },
     "output_type": "display_data"
    },
    {
     "data": {
      "image/png": "[encoded data removed]",
      "text/plain": [
       "<Figure size 432x288 with 1 Axes>"
      ]
     },
     "metadata": {
      "needs_background": "light"
     },
     "output_type": "display_data"
    }
   ],
   "source": [
    "#creating frequency plots for all queries\n",
    "plotFrequency(dataFramesList[0], \"vaccines cause aids\")\n",
    "plotFrequency(dataFramesList[1], \"vaccines kill\")\n",
    "plotFrequency(dataFramesList[2], \"vaccine cause autism\")\n",
    "plotFrequency(dataFramesList[3], \"vaccine are poison\")"
   ]
  },
  {
   "cell_type": "markdown",
   "metadata": {},
   "source": [
    "## 3.3 Top accounts overall\n",
    "After having examined the top accounts for each search query we go to find the top accounts from our dataset of all tweets."
   ]
  },
  {
   "cell_type": "code",
   "execution_count": 126,
   "metadata": {
    "collapsed": false
   },
   "outputs": [],
   "source": [
    "topAll = topAccounts(all_data, 50)"
   ]
  },
  {
   "cell_type": "code",
   "execution_count": 211,
   "metadata": {
    "collapsed": false
   },
   "outputs": [
    {
     "data": {
      "text/html": [
       "<div>\n",
       "<style scoped>\n",
       "    .dataframe tbody tr th:only-of-type {\n",
       "        vertical-align: middle;\n",
       "    }\n",
       "\n",
       "    .dataframe tbody tr th {\n",
       "        vertical-align: top;\n",
       "    }\n",
       "\n",
       "    .dataframe thead th {\n",
       "        text-align: right;\n",
       "    }\n",
       "</style>\n",
       "<table border=\"1\" class=\"dataframe\">\n",
       "  <thead>\n",
       "    <tr style=\"text-align: right;\">\n",
       "      <th></th>\n",
       "      <th>user</th>\n",
       "      <th>numTweets</th>\n",
       "    </tr>\n",
       "  </thead>\n",
       "  <tbody>\n",
       "    <tr>\n",
       "      <th>0</th>\n",
       "      <td>EpigeneticWhisp</td>\n",
       "      <td>65</td>\n",
       "    </tr>\n",
       "    <tr>\n",
       "      <th>1</th>\n",
       "      <td>80sRetro_Girl</td>\n",
       "      <td>56</td>\n",
       "    </tr>\n",
       "    <tr>\n",
       "      <th>2</th>\n",
       "      <td>PaulVCooper1</td>\n",
       "      <td>47</td>\n",
       "    </tr>\n",
       "    <tr>\n",
       "      <th>3</th>\n",
       "      <td>LotusOak2</td>\n",
       "      <td>45</td>\n",
       "    </tr>\n",
       "    <tr>\n",
       "      <th>4</th>\n",
       "      <td>andrewmorrisuk</td>\n",
       "      <td>39</td>\n",
       "    </tr>\n",
       "    <tr>\n",
       "      <th>5</th>\n",
       "      <td>yyoo11122</td>\n",
       "      <td>29</td>\n",
       "    </tr>\n",
       "    <tr>\n",
       "      <th>6</th>\n",
       "      <td>NotATweeter16</td>\n",
       "      <td>28</td>\n",
       "    </tr>\n",
       "    <tr>\n",
       "      <th>7</th>\n",
       "      <td>acagoldsmith</td>\n",
       "      <td>28</td>\n",
       "    </tr>\n",
       "    <tr>\n",
       "      <th>8</th>\n",
       "      <td>lulu111593</td>\n",
       "      <td>24</td>\n",
       "    </tr>\n",
       "    <tr>\n",
       "      <th>9</th>\n",
       "      <td>JambunathanC</td>\n",
       "      <td>22</td>\n",
       "    </tr>\n",
       "  </tbody>\n",
       "</table>\n",
       "</div>"
      ],
      "text/plain": [
       "              user  numTweets\n",
       "0  EpigeneticWhisp         65\n",
       "1    80sRetro_Girl         56\n",
       "2     PaulVCooper1         47\n",
       "3        LotusOak2         45\n",
       "4   andrewmorrisuk         39\n",
       "5        yyoo11122         29\n",
       "6    NotATweeter16         28\n",
       "7     acagoldsmith         28\n",
       "8       lulu111593         24\n",
       "9     JambunathanC         22"
      ]
     },
     "execution_count": 211,
     "metadata": {},
     "output_type": "execute_result"
    }
   ],
   "source": [
    "topAll_df = pd.DataFrame(topAll.items(), columns = [\"user\", \"numTweets\"]) # dataframe with top 50 accounts \n",
    "topAll_df.head(10) # look at top 10 accounts in our dataframe"
   ]
  },
  {
   "cell_type": "code",
   "execution_count": 212,
   "metadata": {
    "collapsed": false
   },
   "outputs": [
    {
     "data": {
      "text/html": [
       "<div>\n",
       "<style scoped>\n",
       "    .dataframe tbody tr th:only-of-type {\n",
       "        vertical-align: middle;\n",
       "    }\n",
       "\n",
       "    .dataframe tbody tr th {\n",
       "        vertical-align: top;\n",
       "    }\n",
       "\n",
       "    .dataframe thead th {\n",
       "        text-align: right;\n",
       "    }\n",
       "</style>\n",
       "<table border=\"1\" class=\"dataframe\">\n",
       "  <thead>\n",
       "    <tr style=\"text-align: right;\">\n",
       "      <th></th>\n",
       "      <th>user</th>\n",
       "      <th>numTweets</th>\n",
       "    </tr>\n",
       "  </thead>\n",
       "  <tbody>\n",
       "    <tr>\n",
       "      <th>0</th>\n",
       "      <td>EpigeneticWhisp</td>\n",
       "      <td>65</td>\n",
       "    </tr>\n",
       "    <tr>\n",
       "      <th>1</th>\n",
       "      <td>80sRetro_Girl</td>\n",
       "      <td>56</td>\n",
       "    </tr>\n",
       "    <tr>\n",
       "      <th>2</th>\n",
       "      <td>PaulVCooper1</td>\n",
       "      <td>47</td>\n",
       "    </tr>\n",
       "    <tr>\n",
       "      <th>3</th>\n",
       "      <td>LotusOak2</td>\n",
       "      <td>45</td>\n",
       "    </tr>\n",
       "    <tr>\n",
       "      <th>4</th>\n",
       "      <td>andrewmorrisuk</td>\n",
       "      <td>39</td>\n",
       "    </tr>\n",
       "    <tr>\n",
       "      <th>5</th>\n",
       "      <td>yyoo11122</td>\n",
       "      <td>29</td>\n",
       "    </tr>\n",
       "    <tr>\n",
       "      <th>6</th>\n",
       "      <td>NotATweeter16</td>\n",
       "      <td>28</td>\n",
       "    </tr>\n",
       "    <tr>\n",
       "      <th>7</th>\n",
       "      <td>acagoldsmith</td>\n",
       "      <td>28</td>\n",
       "    </tr>\n",
       "    <tr>\n",
       "      <th>8</th>\n",
       "      <td>lulu111593</td>\n",
       "      <td>24</td>\n",
       "    </tr>\n",
       "    <tr>\n",
       "      <th>9</th>\n",
       "      <td>JambunathanC</td>\n",
       "      <td>22</td>\n",
       "    </tr>\n",
       "  </tbody>\n",
       "</table>\n",
       "</div>"
      ],
      "text/plain": [
       "              user  numTweets\n",
       "0  EpigeneticWhisp         65\n",
       "1    80sRetro_Girl         56\n",
       "2     PaulVCooper1         47\n",
       "3        LotusOak2         45\n",
       "4   andrewmorrisuk         39\n",
       "5        yyoo11122         29\n",
       "6    NotATweeter16         28\n",
       "7     acagoldsmith         28\n",
       "8       lulu111593         24\n",
       "9     JambunathanC         22"
      ]
     },
     "execution_count": 212,
     "metadata": {},
     "output_type": "execute_result"
    }
   ],
   "source": [
    "allAcctFreq = topAccounts(all_data, all_data.shape[0])\n",
    "allFreq_df = pd.DataFrame(allAcctFreq.items(), columns = [\"user\", \"numTweets\"]) \n",
    "allFreq_df.head(10)"
   ]
  },
  {
   "cell_type": "code",
   "execution_count": 213,
   "metadata": {
    "collapsed": false
   },
   "outputs": [
    {
     "data": {
      "image/png": "[encoded data removed]",
      "text/plain": [
       "<Figure size 432x288 with 1 Axes>"
      ]
     },
     "metadata": {
      "needs_background": "light"
     },
     "output_type": "display_data"
    }
   ],
   "source": [
    "# plotting the frequency of tweets\n",
    "plotFrequency(allFreq_df, \"\")"
   ]
  },
  {
   "cell_type": "code",
   "execution_count": 214,
   "metadata": {
    "collapsed": false
   },
   "outputs": [
    {
     "data": {
      "image/png": "[encoded data removed]",
      "text/plain": [
       "<Figure size 432x288 with 1 Axes>"
      ]
     },
     "metadata": {
      "needs_background": "light"
     },
     "output_type": "display_data"
    }
   ],
   "source": [
    "#plotting only top 50 accounts\n",
    "plotFrequency(topAll_df, \"\")"
   ]
  },
  {
   "cell_type": "markdown",
   "metadata": {},
   "source": [
    "# 4. Creating graphical representation of tweet frequency"
   ]
  },
  {
   "cell_type": "markdown",
   "metadata": {},
   "source": [
    "As we saw in part 3.2, there were multiple accounts that appeared in the results for the different search queries, meaning that particular users were more active/interacted with different communities within the anti-vaccination community encompassed in the four search queries. Therefore in the next step we look create a graph where the nodes represent the different search queries and accounts and the edges represent a connection between a search query and account if it appears in that search query. The weight of the edge is determined by the number of tweets that partular user wrote. "
   ]
  },
  {
   "cell_type": "code",
   "execution_count": null,
   "metadata": {
    "collapsed": true
   },
   "outputs": [],
   "source": []
  }
 ],
 "metadata": {
  "kernelspec": {
   "display_name": "Python 3",
   "language": "python",
   "name": "python3"
  },
  "language_info": {
   "codemirror_mode": {
    "name": "ipython",
    "version": 3
   },
   "file_extension": ".py",
   "mimetype": "text/x-python",
   "name": "python",
   "nbconvert_exporter": "python",
   "pygments_lexer": "ipython3",
   "version": "3.7.6"
  }
 },
 "nbformat": 4,
 "nbformat_minor": 2
}
