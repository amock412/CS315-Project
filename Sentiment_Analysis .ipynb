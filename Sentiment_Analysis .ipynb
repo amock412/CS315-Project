{
 "cells": [
  {
   "cell_type": "markdown",
   "metadata": {},
   "source": [
    "# Exploring sentiment in Tweets\n",
    "We collected tweets from multiple datasets. To examing the sentiment present in the tweets we wanted to use a different method of sentiment analysis since TextBlob did not provide much information"
   ]
  },
  {
   "cell_type": "markdown",
   "metadata": {},
   "source": [
    "## Part 1: Importing necessary libraries and data"
   ]
  },
  {
   "cell_type": "code",
   "execution_count": 35,
   "metadata": {},
   "outputs": [],
   "source": [
    "import pandas as pd\n",
    "aids_data = pd.read_csv('vaccinescauseaids_twitter_data.csv')\n",
    "kill_data = pd.read_csv('vaccineskill_twitter_data.csv')\n",
    "vaccinesAutism_data = pd.read_csv('vaccinescauseautism_twitter_data.csv', lineterminator='\\n')\n",
    "poison_data = pd.read_csv('vaccinesarepoison_twitter_data.csv')\n",
    "\n",
    "merged_data = pd.concat([aids_data, kill_data, poison_data, vaccinesAutism_data], ignore_index = True)"
   ]
  },
  {
   "cell_type": "code",
   "execution_count": 36,
   "metadata": {},
   "outputs": [
    {
     "data": {
      "text/html": [
       "<div>\n",
       "<style scoped>\n",
       "    .dataframe tbody tr th:only-of-type {\n",
       "        vertical-align: middle;\n",
       "    }\n",
       "\n",
       "    .dataframe tbody tr th {\n",
       "        vertical-align: top;\n",
       "    }\n",
       "\n",
       "    .dataframe thead th {\n",
       "        text-align: right;\n",
       "    }\n",
       "</style>\n",
       "<table border=\"1\" class=\"dataframe\">\n",
       "  <thead>\n",
       "    <tr style=\"text-align: right;\">\n",
       "      <th></th>\n",
       "      <th>username</th>\n",
       "      <th>acctdesc</th>\n",
       "      <th>location</th>\n",
       "      <th>following</th>\n",
       "      <th>followers</th>\n",
       "      <th>totaltweets</th>\n",
       "      <th>usercreatedts</th>\n",
       "      <th>tweetcreatedts</th>\n",
       "      <th>retweetcount</th>\n",
       "      <th>text</th>\n",
       "      <th>hashtags</th>\n",
       "    </tr>\n",
       "  </thead>\n",
       "  <tbody>\n",
       "    <tr>\n",
       "      <th>0</th>\n",
       "      <td>AdamYoung329</td>\n",
       "      <td>Married, Father to two boys, huskies Nekola an...</td>\n",
       "      <td>Welland, Ontario</td>\n",
       "      <td>535</td>\n",
       "      <td>296</td>\n",
       "      <td>8577</td>\n",
       "      <td>2011-10-14 23:22:07</td>\n",
       "      <td>2020-09-21 02:47:57</td>\n",
       "      <td>86</td>\n",
       "      <td>If I thought COVID was fake, killed nobody, an...</td>\n",
       "      <td>[]</td>\n",
       "    </tr>\n",
       "    <tr>\n",
       "      <th>1</th>\n",
       "      <td>LandonCraigie</td>\n",
       "      <td>Extremely muscular. Live in a remote castle wi...</td>\n",
       "      <td>Canada</td>\n",
       "      <td>4994</td>\n",
       "      <td>1745</td>\n",
       "      <td>8619</td>\n",
       "      <td>2017-05-05 02:04:03</td>\n",
       "      <td>2020-09-21 02:42:17</td>\n",
       "      <td>86</td>\n",
       "      <td>If I thought COVID was fake, killed nobody, an...</td>\n",
       "      <td>[]</td>\n",
       "    </tr>\n",
       "    <tr>\n",
       "      <th>2</th>\n",
       "      <td>drhoctor2</td>\n",
       "      <td>Everything that hasn't killed me has made me M...</td>\n",
       "      <td>Southern Tier, NY</td>\n",
       "      <td>4740</td>\n",
       "      <td>3275</td>\n",
       "      <td>326202</td>\n",
       "      <td>2009-03-27 15:53:23</td>\n",
       "      <td>2020-09-21 00:11:58</td>\n",
       "      <td>86</td>\n",
       "      <td>If I thought COVID was fake, killed nobody, an...</td>\n",
       "      <td>[]</td>\n",
       "    </tr>\n",
       "    <tr>\n",
       "      <th>3</th>\n",
       "      <td>DanaSmithTN04</td>\n",
       "      <td>Is some sanity really all that big of an ask?</td>\n",
       "      <td>NaN</td>\n",
       "      <td>161</td>\n",
       "      <td>113</td>\n",
       "      <td>1928</td>\n",
       "      <td>2020-08-19 23:45:18</td>\n",
       "      <td>2020-09-20 22:54:21</td>\n",
       "      <td>86</td>\n",
       "      <td>If I thought COVID was fake, killed nobody, an...</td>\n",
       "      <td>[]</td>\n",
       "    </tr>\n",
       "    <tr>\n",
       "      <th>4</th>\n",
       "      <td>PersistentObsvr</td>\n",
       "      <td>“I despise Trump with the intensity of a thous...</td>\n",
       "      <td>Indianapolis, IN</td>\n",
       "      <td>5001</td>\n",
       "      <td>2368</td>\n",
       "      <td>61303</td>\n",
       "      <td>2017-11-06 02:21:59</td>\n",
       "      <td>2020-09-20 21:08:11</td>\n",
       "      <td>86</td>\n",
       "      <td>If I thought COVID was fake, killed nobody, an...</td>\n",
       "      <td>[]</td>\n",
       "    </tr>\n",
       "    <tr>\n",
       "      <th>...</th>\n",
       "      <td>...</td>\n",
       "      <td>...</td>\n",
       "      <td>...</td>\n",
       "      <td>...</td>\n",
       "      <td>...</td>\n",
       "      <td>...</td>\n",
       "      <td>...</td>\n",
       "      <td>...</td>\n",
       "      <td>...</td>\n",
       "      <td>...</td>\n",
       "      <td>...</td>\n",
       "    </tr>\n",
       "    <tr>\n",
       "      <th>1443</th>\n",
       "      <td>Tonya42676876</td>\n",
       "      <td>Don’t be a 🐑 but a truth seeker, The truth doe...</td>\n",
       "      <td>NaN</td>\n",
       "      <td>28</td>\n",
       "      <td>15</td>\n",
       "      <td>1944</td>\n",
       "      <td>2019-04-26 17:18:44</td>\n",
       "      <td>2020-09-13 01:09:22</td>\n",
       "      <td>0</td>\n",
       "      <td>@fairness2all @Kingdom49867884 One more thing,...</td>\n",
       "      <td>[]</td>\n",
       "    </tr>\n",
       "    <tr>\n",
       "      <th>1444</th>\n",
       "      <td>soulutionaries</td>\n",
       "      <td>Soulutionaries TV Network is A Growing Army Of...</td>\n",
       "      <td>London, England</td>\n",
       "      <td>507</td>\n",
       "      <td>589</td>\n",
       "      <td>3547</td>\n",
       "      <td>2016-10-28 01:29:58</td>\n",
       "      <td>2020-09-13 01:01:43</td>\n",
       "      <td>6</td>\n",
       "      <td>NEW TRENDING BRIT SONG! BLAST FAR &amp;amp; WIDE E...</td>\n",
       "      <td>[]</td>\n",
       "    </tr>\n",
       "    <tr>\n",
       "      <th>1445</th>\n",
       "      <td>truthseeker6761</td>\n",
       "      <td>\"We the People are the Rightful Masters of bot...</td>\n",
       "      <td>NaN</td>\n",
       "      <td>330</td>\n",
       "      <td>2264</td>\n",
       "      <td>293247</td>\n",
       "      <td>2017-07-14 20:22:11</td>\n",
       "      <td>2020-09-12 23:11:58</td>\n",
       "      <td>1</td>\n",
       "      <td>@truthseeker6761 @BradleeDean1 They are trying...</td>\n",
       "      <td>[]</td>\n",
       "    </tr>\n",
       "    <tr>\n",
       "      <th>1446</th>\n",
       "      <td>CommonS18215823</td>\n",
       "      <td>NaN</td>\n",
       "      <td>NaN</td>\n",
       "      <td>278</td>\n",
       "      <td>25</td>\n",
       "      <td>345</td>\n",
       "      <td>2020-04-02 05:00:56</td>\n",
       "      <td>2020-09-12 23:02:23</td>\n",
       "      <td>1</td>\n",
       "      <td>@truthseeker6761 @BradleeDean1 They are trying...</td>\n",
       "      <td>[]</td>\n",
       "    </tr>\n",
       "    <tr>\n",
       "      <th>1447</th>\n",
       "      <td>PeterAn31820691</td>\n",
       "      <td>The Truth will set you Free. Say NO to the NWO...</td>\n",
       "      <td>England</td>\n",
       "      <td>533</td>\n",
       "      <td>562</td>\n",
       "      <td>3717</td>\n",
       "      <td>2020-05-04 10:40:55</td>\n",
       "      <td>2020-09-12 21:58:11</td>\n",
       "      <td>0</td>\n",
       "      <td>@Kellyk84471553 The only ones the vaccine will...</td>\n",
       "      <td>[]</td>\n",
       "    </tr>\n",
       "  </tbody>\n",
       "</table>\n",
       "<p>1448 rows × 11 columns</p>\n",
       "</div>"
      ],
      "text/plain": [
       "             username                                           acctdesc  \\\n",
       "0        AdamYoung329  Married, Father to two boys, huskies Nekola an...   \n",
       "1       LandonCraigie  Extremely muscular. Live in a remote castle wi...   \n",
       "2           drhoctor2  Everything that hasn't killed me has made me M...   \n",
       "3       DanaSmithTN04      Is some sanity really all that big of an ask?   \n",
       "4     PersistentObsvr  “I despise Trump with the intensity of a thous...   \n",
       "...               ...                                                ...   \n",
       "1443    Tonya42676876  Don’t be a 🐑 but a truth seeker, The truth doe...   \n",
       "1444   soulutionaries  Soulutionaries TV Network is A Growing Army Of...   \n",
       "1445  truthseeker6761  \"We the People are the Rightful Masters of bot...   \n",
       "1446  CommonS18215823                                                NaN   \n",
       "1447  PeterAn31820691  The Truth will set you Free. Say NO to the NWO...   \n",
       "\n",
       "               location  following  followers  totaltweets  \\\n",
       "0      Welland, Ontario        535        296         8577   \n",
       "1                Canada       4994       1745         8619   \n",
       "2     Southern Tier, NY       4740       3275       326202   \n",
       "3                   NaN        161        113         1928   \n",
       "4      Indianapolis, IN       5001       2368        61303   \n",
       "...                 ...        ...        ...          ...   \n",
       "1443                NaN         28         15         1944   \n",
       "1444    London, England        507        589         3547   \n",
       "1445                NaN        330       2264       293247   \n",
       "1446                NaN        278         25          345   \n",
       "1447            England        533        562         3717   \n",
       "\n",
       "            usercreatedts       tweetcreatedts  retweetcount  \\\n",
       "0     2011-10-14 23:22:07  2020-09-21 02:47:57            86   \n",
       "1     2017-05-05 02:04:03  2020-09-21 02:42:17            86   \n",
       "2     2009-03-27 15:53:23  2020-09-21 00:11:58            86   \n",
       "3     2020-08-19 23:45:18  2020-09-20 22:54:21            86   \n",
       "4     2017-11-06 02:21:59  2020-09-20 21:08:11            86   \n",
       "...                   ...                  ...           ...   \n",
       "1443  2019-04-26 17:18:44  2020-09-13 01:09:22             0   \n",
       "1444  2016-10-28 01:29:58  2020-09-13 01:01:43             6   \n",
       "1445  2017-07-14 20:22:11  2020-09-12 23:11:58             1   \n",
       "1446  2020-04-02 05:00:56  2020-09-12 23:02:23             1   \n",
       "1447  2020-05-04 10:40:55  2020-09-12 21:58:11             0   \n",
       "\n",
       "                                                   text hashtags  \n",
       "0     If I thought COVID was fake, killed nobody, an...       []  \n",
       "1     If I thought COVID was fake, killed nobody, an...       []  \n",
       "2     If I thought COVID was fake, killed nobody, an...       []  \n",
       "3     If I thought COVID was fake, killed nobody, an...       []  \n",
       "4     If I thought COVID was fake, killed nobody, an...       []  \n",
       "...                                                 ...      ...  \n",
       "1443  @fairness2all @Kingdom49867884 One more thing,...       []  \n",
       "1444  NEW TRENDING BRIT SONG! BLAST FAR &amp; WIDE E...       []  \n",
       "1445  @truthseeker6761 @BradleeDean1 They are trying...       []  \n",
       "1446  @truthseeker6761 @BradleeDean1 They are trying...       []  \n",
       "1447  @Kellyk84471553 The only ones the vaccine will...       []  \n",
       "\n",
       "[1448 rows x 11 columns]"
      ]
     },
     "execution_count": 36,
     "metadata": {},
     "output_type": "execute_result"
    }
   ],
   "source": [
    "merged_data # our merged data "
   ]
  },
  {
   "cell_type": "code",
   "execution_count": 61,
   "metadata": {},
   "outputs": [
    {
     "name": "stderr",
     "output_type": "stream",
     "text": [
      "[nltk_data] Downloading package punkt to\n",
      "[nltk_data]     /Users/andreamock/nltk_data...\n",
      "[nltk_data]   Package punkt is already up-to-date!\n"
     ]
    },
    {
     "data": {
      "text/plain": [
       "True"
      ]
     },
     "execution_count": 61,
     "metadata": {},
     "output_type": "execute_result"
    }
   ],
   "source": [
    "# download necessary libraries\n",
    "from nrclex import NRCLex\n",
    "import nltk\n",
    "nltk.download('punkt')"
   ]
  },
  {
   "cell_type": "markdown",
   "metadata": {},
   "source": [
    "## Part 2: Examining how NRCLex works"
   ]
  },
  {
   "cell_type": "code",
   "execution_count": 62,
   "metadata": {},
   "outputs": [
    {
     "data": {
      "text/plain": [
       "['aids', 'are', 'fun']"
      ]
     },
     "execution_count": 62,
     "metadata": {},
     "output_type": "execute_result"
    }
   ],
   "source": [
    "#Instantiate text object \n",
    "text_object = NRCLex('aids are fun')\n",
    "\n",
    "#Return words list.\n",
    "text_object.words"
   ]
  },
  {
   "cell_type": "code",
   "execution_count": 63,
   "metadata": {},
   "outputs": [
    {
     "data": {
      "text/plain": [
       "{'fear': 0.0,\n",
       " 'anger': 0.0,\n",
       " 'anticip': 0.14285714285714285,\n",
       " 'trust': 0.14285714285714285,\n",
       " 'surprise': 0.0,\n",
       " 'positive': 0.14285714285714285,\n",
       " 'negative': 0.14285714285714285,\n",
       " 'sadness': 0.14285714285714285,\n",
       " 'disgust': 0.14285714285714285,\n",
       " 'joy': 0.14285714285714285}"
      ]
     },
     "execution_count": 63,
     "metadata": {},
     "output_type": "execute_result"
    }
   ],
   "source": [
    "text_object.affect_frequencies # example classification"
   ]
  },
  {
   "cell_type": "markdown",
   "metadata": {},
   "source": [
    "## Part 3: Performing NRCLex analysis on our data"
   ]
  },
  {
   "cell_type": "code",
   "execution_count": 41,
   "metadata": {},
   "outputs": [],
   "source": [
    "# create dataframe which safe the analysis for each tweet\n",
    "\n",
    "info_df = []\n",
    "for tweet in merged_data['text']: \n",
    "    text_object = NRCLex(tweet)\n",
    "    info = (tweet, text_object.affect_frequencies['fear'], \n",
    "            text_object.affect_frequencies['anger'], text_object.affect_frequencies['anticip'],\n",
    "            text_object.affect_frequencies['trust'], text_object.affect_frequencies['surprise'],\n",
    "            text_object.affect_frequencies['positive'], text_object.affect_frequencies['negative'],            \n",
    "            text_object.affect_frequencies['sadness'], text_object.affect_frequencies['disgust'],\n",
    "            text_object.affect_frequencies['joy']\n",
    "               )\n",
    "    info_df.append(info)\n",
    "    #print(text_object.affect_frequencies)\n",
    "    \n",
    "my_df = pd.DataFrame(info_df)\n",
    "my_df.columns = [\"tweet\", \"fear\", \"anger\", \"anticip\", \"trust\", \"surprise\", \"positive\", \"negative\", \"sadness\", \"disgust\",\"joy\" ]"
   ]
  },
  {
   "cell_type": "markdown",
   "metadata": {},
   "source": [
    "To get a better sense of how the evaluation works for the different tweets we decide to look at a specific example and the values associated with it:"
   ]
  },
  {
   "cell_type": "code",
   "execution_count": 48,
   "metadata": {},
   "outputs": [
    {
     "data": {
      "text/plain": [
       "\"@Frank38328140 @marklevinshow There's a reason why Bill Gate's is banned from entering certain countries. His vaccines that he pushed are poison &amp; lethal. He has openly advocated for population control &amp; Eugenics!!\""
      ]
     },
     "execution_count": 48,
     "metadata": {},
     "output_type": "execute_result"
    }
   ],
   "source": [
    "my_df['tweet'][200]"
   ]
  },
  {
   "cell_type": "code",
   "execution_count": 49,
   "metadata": {},
   "outputs": [
    {
     "data": {
      "text/plain": [
       "0.11475409836065574"
      ]
     },
     "execution_count": 49,
     "metadata": {},
     "output_type": "execute_result"
    }
   ],
   "source": [
    "my_df['fear'][200]"
   ]
  },
  {
   "cell_type": "code",
   "execution_count": 50,
   "metadata": {},
   "outputs": [
    {
     "data": {
      "text/plain": [
       "0.11475409836065574"
      ]
     },
     "execution_count": 50,
     "metadata": {},
     "output_type": "execute_result"
    }
   ],
   "source": [
    "my_df['anger'][200]"
   ]
  },
  {
   "cell_type": "code",
   "execution_count": 51,
   "metadata": {},
   "outputs": [
    {
     "data": {
      "text/plain": [
       "0.08196721311475409"
      ]
     },
     "execution_count": 51,
     "metadata": {},
     "output_type": "execute_result"
    }
   ],
   "source": [
    "my_df['anticip'][200]"
   ]
  },
  {
   "cell_type": "code",
   "execution_count": 52,
   "metadata": {},
   "outputs": [
    {
     "data": {
      "text/plain": [
       "0.08196721311475409"
      ]
     },
     "execution_count": 52,
     "metadata": {},
     "output_type": "execute_result"
    }
   ],
   "source": [
    "my_df['trust'][200]"
   ]
  },
  {
   "cell_type": "code",
   "execution_count": 53,
   "metadata": {},
   "outputs": [
    {
     "data": {
      "text/plain": [
       "0.06557377049180328"
      ]
     },
     "execution_count": 53,
     "metadata": {},
     "output_type": "execute_result"
    }
   ],
   "source": [
    "my_df['surprise'][200]"
   ]
  },
  {
   "cell_type": "code",
   "execution_count": 54,
   "metadata": {},
   "outputs": [
    {
     "data": {
      "text/plain": [
       "0.11475409836065574"
      ]
     },
     "execution_count": 54,
     "metadata": {},
     "output_type": "execute_result"
    }
   ],
   "source": [
    "my_df['positive'][200]"
   ]
  },
  {
   "cell_type": "code",
   "execution_count": 55,
   "metadata": {},
   "outputs": [
    {
     "data": {
      "text/plain": [
       "0.11475409836065574"
      ]
     },
     "execution_count": 55,
     "metadata": {},
     "output_type": "execute_result"
    }
   ],
   "source": [
    "my_df['negative'][200]"
   ]
  },
  {
   "cell_type": "code",
   "execution_count": 56,
   "metadata": {},
   "outputs": [
    {
     "data": {
      "text/plain": [
       "0.11475409836065574"
      ]
     },
     "execution_count": 56,
     "metadata": {},
     "output_type": "execute_result"
    }
   ],
   "source": [
    "my_df['sadness'][200]"
   ]
  },
  {
   "cell_type": "code",
   "execution_count": 57,
   "metadata": {},
   "outputs": [
    {
     "data": {
      "text/plain": [
       "0.11475409836065574"
      ]
     },
     "execution_count": 57,
     "metadata": {},
     "output_type": "execute_result"
    }
   ],
   "source": [
    "my_df['disgust'][200]"
   ]
  },
  {
   "cell_type": "code",
   "execution_count": 58,
   "metadata": {},
   "outputs": [
    {
     "data": {
      "text/plain": [
       "0.08196721311475409"
      ]
     },
     "execution_count": 58,
     "metadata": {},
     "output_type": "execute_result"
    }
   ],
   "source": [
    "my_df['joy'][200]"
   ]
  },
  {
   "cell_type": "markdown",
   "metadata": {},
   "source": [
    "## Part 4: Visualization of results"
   ]
  },
  {
   "cell_type": "code",
   "execution_count": 43,
   "metadata": {},
   "outputs": [
    {
     "name": "stderr",
     "output_type": "stream",
     "text": [
      "/opt/anaconda3/lib/python3.7/site-packages/ipykernel_launcher.py:7: UserWarning: To output multiple subplots, the figure containing the passed axes is being cleared\n",
      "  import sys\n"
     ]
    },
    {
     "data": {
      "image/png": "[encoded data removed]",
      "text/plain": [
       "<Figure size 576x432 with 12 Axes>"
      ]
     },
     "metadata": {
      "needs_background": "light"
     },
     "output_type": "display_data"
    }
   ],
   "source": [
    "import matplotlib.pyplot as plt \n",
    "fig, ax = plt.subplots(figsize=(8, 6))\n",
    "\n",
    "# Plot histogram of the polarity values\n",
    "my_df.hist(bins=[-1, -0.75, -0.5, -0.25, 0.25, 0.5, 0.75, 1],\n",
    "             ax=ax,\n",
    "             color=\"purple\")\n",
    "\n",
    "plt.title(\"Sentiments from Tweets on #vaccinecauseaids\")\n",
    "plt.show()"
   ]
  },
  {
   "cell_type": "markdown",
   "metadata": {},
   "source": [
    "## Part 6: Analyzing individual datasets\n",
    "To get a better sense if every dataset provides such neutral emotions we use NRCLex to identify the emotions in each of our dataset individually. "
   ]
  },
  {
   "cell_type": "code",
   "execution_count": 18,
   "metadata": {
    "collapsed": true
   },
   "outputs": [],
   "source": [
    "vaccinesKill_data = pd.read_csv('vaccineskill_twitter_data.csv')\n",
    "\n",
    "info_df = []\n",
    "for tweet in vaccinesKill_data['text']: \n",
    "    text_object = NRCLex(tweet)\n",
    "    info = (tweet, text_object.affect_frequencies['fear'], \n",
    "            text_object.affect_frequencies['anger'], text_object.affect_frequencies['anticip'],\n",
    "            text_object.affect_frequencies['trust'], text_object.affect_frequencies['surprise'],\n",
    "            text_object.affect_frequencies['positive'], text_object.affect_frequencies['negative'],            text_object.affect_frequencies['sadness'], text_object.affect_frequencies['disgust'],\n",
    "            text_object.affect_frequencies['joy']\n",
    "               )\n",
    "    info_df.append(info)\n",
    "    #print(text_object.affect_frequencies)\n",
    "    \n",
    "vk_df = pd.DataFrame(info_df)\n",
    "vk_df.columns = [\"tweet\", \"fear\", \"anger\", \"anticip\", \"trust\", \"surprise\", \"positive\", \"negative\", \"sadness\", \"disgust\",\"joy\" ]"
   ]
  },
  {
   "cell_type": "code",
   "execution_count": 21,
   "metadata": {},
   "outputs": [
    {
     "name": "stderr",
     "output_type": "stream",
     "text": [
      "/opt/anaconda3/lib/python3.7/site-packages/ipykernel_launcher.py:6: UserWarning: To output multiple subplots, the figure containing the passed axes is being cleared\n",
      "  \n"
     ]
    },
    {
     "data": {
      "image/png": "[encoded data removed]",
      "text/plain": [
       "<Figure size 1080x1080 with 12 Axes>"
      ]
     },
     "metadata": {
      "needs_background": "light"
     },
     "output_type": "display_data"
    }
   ],
   "source": [
    "fig, ax = plt.subplots(figsize=(15, 15))\n",
    "\n",
    "# Plot histogram of the polarity values\n",
    "vk_df.hist(bins=[-1, -0.75, -0.5, -0.25, 0.25, 0.5, 0.75, 1],\n",
    "             ax=ax,\n",
    "             color=\"purple\")\n",
    "\n",
    "plt.title(\"Sentiments from Tweets on #vaccinecauseaids\")\n",
    "plt.show()"
   ]
  },
  {
   "cell_type": "code",
   "execution_count": 22,
   "metadata": {
    "collapsed": true
   },
   "outputs": [],
   "source": [
    "vaccinesPoison_data = pd.read_csv('vaccinesarepoison_twitter_data.csv')"
   ]
  },
  {
   "cell_type": "code",
   "execution_count": 27,
   "metadata": {},
   "outputs": [
    {
     "data": {
      "text/plain": [
       "Patriot___News     8\n",
       "bridb              6\n",
       "_LibertyReport_    4\n",
       "bois0917           4\n",
       "Pythago38919500    4\n",
       "                  ..\n",
       "Elle_G_Lewis       2\n",
       "MyNameIsEarlB      2\n",
       "kate_niicole       2\n",
       "SabrinaRWilhelm    2\n",
       "poopy1984          2\n",
       "Name: username, Length: 300, dtype: int64"
      ]
     },
     "execution_count": 27,
     "metadata": {},
     "output_type": "execute_result"
    }
   ],
   "source": [
    "freqCount = vaccinesPoison_data['username'].value_counts() # counts the frequency of each username\n",
    "freqCount"
   ]
  },
  {
   "cell_type": "code",
   "execution_count": 36,
   "metadata": {},
   "outputs": [
    {
     "data": {
      "text/html": [
       "<div>\n",
       "<style scoped>\n",
       "    .dataframe tbody tr th:only-of-type {\n",
       "        vertical-align: middle;\n",
       "    }\n",
       "\n",
       "    .dataframe tbody tr th {\n",
       "        vertical-align: top;\n",
       "    }\n",
       "\n",
       "    .dataframe thead th {\n",
       "        text-align: right;\n",
       "    }\n",
       "</style>\n",
       "<table border=\"1\" class=\"dataframe\">\n",
       "  <thead>\n",
       "    <tr style=\"text-align: right;\">\n",
       "      <th></th>\n",
       "      <th>username</th>\n",
       "      <th>acctdesc</th>\n",
       "      <th>location</th>\n",
       "      <th>following</th>\n",
       "      <th>followers</th>\n",
       "      <th>totaltweets</th>\n",
       "      <th>usercreatedts</th>\n",
       "      <th>tweetcreatedts</th>\n",
       "      <th>retweetcount</th>\n",
       "      <th>text</th>\n",
       "      <th>hashtags</th>\n",
       "    </tr>\n",
       "  </thead>\n",
       "  <tbody>\n",
       "    <tr>\n",
       "      <th>438</th>\n",
       "      <td>aspeed</td>\n",
       "      <td>Rainbow Book Award winning writer. A small med...</td>\n",
       "      <td>In the crawlspace</td>\n",
       "      <td>3541</td>\n",
       "      <td>1971</td>\n",
       "      <td>320829</td>\n",
       "      <td>2008-03-16 07:27:52</td>\n",
       "      <td>2020-09-18 21:11:59</td>\n",
       "      <td>2</td>\n",
       "      <td>Welp, just saw a dude with a “Vaccines are poi...</td>\n",
       "      <td>[]</td>\n",
       "    </tr>\n",
       "    <tr>\n",
       "      <th>241</th>\n",
       "      <td>fangpusskins</td>\n",
       "      <td>Wake county substitute/math teacher, bleeding ...</td>\n",
       "      <td>NaN</td>\n",
       "      <td>4991</td>\n",
       "      <td>3650</td>\n",
       "      <td>347374</td>\n",
       "      <td>2010-08-05 00:40:26</td>\n",
       "      <td>2020-09-15 15:56:26</td>\n",
       "      <td>1</td>\n",
       "      <td>@bariweiss I have unapologetically ended frien...</td>\n",
       "      <td>[]</td>\n",
       "    </tr>\n",
       "    <tr>\n",
       "      <th>557</th>\n",
       "      <td>fangpusskins</td>\n",
       "      <td>Wake county substitute/math teacher, bleeding ...</td>\n",
       "      <td>NaN</td>\n",
       "      <td>4991</td>\n",
       "      <td>3650</td>\n",
       "      <td>347374</td>\n",
       "      <td>2010-08-05 00:40:26</td>\n",
       "      <td>2020-09-15 15:56:26</td>\n",
       "      <td>1</td>\n",
       "      <td>@bariweiss I have unapologetically ended frien...</td>\n",
       "      <td>[]</td>\n",
       "    </tr>\n",
       "    <tr>\n",
       "      <th>607</th>\n",
       "      <td>scarijuana</td>\n",
       "      <td>The idea is to participate in your existence. ...</td>\n",
       "      <td>Colorado ☥ Ⓥ</td>\n",
       "      <td>432</td>\n",
       "      <td>7303</td>\n",
       "      <td>433955</td>\n",
       "      <td>2009-09-21 01:05:45</td>\n",
       "      <td>2020-09-13 13:30:16</td>\n",
       "      <td>3</td>\n",
       "      <td>All vaccines should be banned! They are all fi...</td>\n",
       "      <td>[]</td>\n",
       "    </tr>\n",
       "    <tr>\n",
       "      <th>291</th>\n",
       "      <td>scarijuana</td>\n",
       "      <td>The idea is to participate in your existence. ...</td>\n",
       "      <td>Colorado ☥ Ⓥ</td>\n",
       "      <td>432</td>\n",
       "      <td>7303</td>\n",
       "      <td>433955</td>\n",
       "      <td>2009-09-21 01:05:45</td>\n",
       "      <td>2020-09-13 13:30:16</td>\n",
       "      <td>3</td>\n",
       "      <td>All vaccines should be banned! They are all fi...</td>\n",
       "      <td>[]</td>\n",
       "    </tr>\n",
       "  </tbody>\n",
       "</table>\n",
       "</div>"
      ],
      "text/plain": [
       "         username                                           acctdesc  \\\n",
       "438        aspeed  Rainbow Book Award winning writer. A small med...   \n",
       "241  fangpusskins  Wake county substitute/math teacher, bleeding ...   \n",
       "557  fangpusskins  Wake county substitute/math teacher, bleeding ...   \n",
       "607    scarijuana  The idea is to participate in your existence. ...   \n",
       "291    scarijuana  The idea is to participate in your existence. ...   \n",
       "\n",
       "              location  following  followers  totaltweets  \\\n",
       "438  In the crawlspace       3541       1971       320829   \n",
       "241                NaN       4991       3650       347374   \n",
       "557                NaN       4991       3650       347374   \n",
       "607       Colorado ☥ Ⓥ        432       7303       433955   \n",
       "291       Colorado ☥ Ⓥ        432       7303       433955   \n",
       "\n",
       "           usercreatedts       tweetcreatedts  retweetcount  \\\n",
       "438  2008-03-16 07:27:52  2020-09-18 21:11:59             2   \n",
       "241  2010-08-05 00:40:26  2020-09-15 15:56:26             1   \n",
       "557  2010-08-05 00:40:26  2020-09-15 15:56:26             1   \n",
       "607  2009-09-21 01:05:45  2020-09-13 13:30:16             3   \n",
       "291  2009-09-21 01:05:45  2020-09-13 13:30:16             3   \n",
       "\n",
       "                                                  text hashtags  \n",
       "438  Welp, just saw a dude with a “Vaccines are poi...       []  \n",
       "241  @bariweiss I have unapologetically ended frien...       []  \n",
       "557  @bariweiss I have unapologetically ended frien...       []  \n",
       "607  All vaccines should be banned! They are all fi...       []  \n",
       "291  All vaccines should be banned! They are all fi...       []  "
      ]
     },
     "execution_count": 36,
     "metadata": {},
     "output_type": "execute_result"
    }
   ],
   "source": [
    "vaccinesPoison_data.loc[1:10, ]\n",
    "vaccinesPoison_data.sort_values('totaltweets').tail() # examine the users with the most tweets "
   ]
  },
  {
   "cell_type": "code",
   "execution_count": null,
   "metadata": {
    "collapsed": true
   },
   "outputs": [],
   "source": [
    "for user in \n",
    "print(vaccinesPoison_data['totaltweets'] "
   ]
  },
  {
   "cell_type": "code",
   "execution_count": 23,
   "metadata": {
    "collapsed": true
   },
   "outputs": [],
   "source": [
    "info_df = []\n",
    "for tweet in vaccinesPoison_data['text']: \n",
    "    text_object = NRCLex(tweet)\n",
    "    info = (tweet, text_object.affect_frequencies['fear'], \n",
    "            text_object.affect_frequencies['anger'], text_object.affect_frequencies['anticip'],\n",
    "            text_object.affect_frequencies['trust'], text_object.affect_frequencies['surprise'],\n",
    "            text_object.affect_frequencies['positive'], text_object.affect_frequencies['negative'],            text_object.affect_frequencies['sadness'], text_object.affect_frequencies['disgust'],\n",
    "            text_object.affect_frequencies['joy']\n",
    "               )\n",
    "    info_df.append(info)\n",
    "    #print(text_object.affect_frequencies)\n",
    "    \n",
    "vp_df = pd.DataFrame(info_df)\n",
    "vp_df.columns = [\"tweet\", \"fear\", \"anger\", \"anticip\", \"trust\", \"surprise\", \"positive\", \"negative\", \"sadness\", \"disgust\",\"joy\" ]"
   ]
  },
  {
   "cell_type": "code",
   "execution_count": 24,
   "metadata": {},
   "outputs": [
    {
     "name": "stderr",
     "output_type": "stream",
     "text": [
      "/opt/anaconda3/lib/python3.7/site-packages/ipykernel_launcher.py:6: UserWarning: To output multiple subplots, the figure containing the passed axes is being cleared\n",
      "  \n"
     ]
    },
    {
     "data": {
      "image/png": "[encoded data removed]",
      "text/plain": [
       "<Figure size 1080x1080 with 12 Axes>"
      ]
     },
     "metadata": {
      "needs_background": "light"
     },
     "output_type": "display_data"
    }
   ],
   "source": [
    "fig, ax = plt.subplots(figsize=(15, 15))\n",
    "\n",
    "# Plot histogram of the polarity values\n",
    "vp_df.hist(bins=[-1, -0.75, -0.5, -0.25, 0.25, 0.5, 0.75, 1],\n",
    "             ax=ax,\n",
    "             color=\"purple\")\n",
    "\n",
    "plt.title(\"Sentiments from Tweets on #vaccinecauseaids\")\n",
    "plt.show()"
   ]
  },
  {
   "cell_type": "code",
   "execution_count": 60,
   "metadata": {},
   "outputs": [],
   "source": []
  },
  {
   "cell_type": "code",
   "execution_count": null,
   "metadata": {},
   "outputs": [],
   "source": []
  }
 ],
 "metadata": {
  "kernelspec": {
   "display_name": "Python 3",
   "language": "python",
   "name": "python3"
  },
  "language_info": {
   "codemirror_mode": {
    "name": "ipython",
    "version": 3
   },
   "file_extension": ".py",
   "mimetype": "text/x-python",
   "name": "python",
   "nbconvert_exporter": "python",
   "pygments_lexer": "ipython3",
   "version": "3.7.6"
  }
 },
 "nbformat": 4,
 "nbformat_minor": 4
}
