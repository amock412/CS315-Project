{
 "cells": [
  {
   "cell_type": "markdown",
   "metadata": {},
   "source": [
    "# PM2 - Data Exploration "
   ]
  },
  {
   "cell_type": "markdown",
   "metadata": {},
   "source": [
    "My data collection encompassed different parts given the fact that GetOldTweets3 no longer works to extract old tweets from Twitter. Thus this Jupyter notebook on data exploration will similarly also include some of the code I had written to explore data from GetOldTweets3 as well as the regular Twitter API. "
   ]
  },
  {
   "cell_type": "markdown",
   "metadata": {},
   "source": [
    "## Part 1 - Analyzing data from GetOldTweets3 calls"
   ]
  },
  {
   "cell_type": "markdown",
   "metadata": {},
   "source": [
    "Although I was unable to store much data that I was exploring with GetOldTweets3. I have provided some of the code that I wrote and some images of sample output to show how the code allowed me to explore some of the older tweets. "
   ]
  },
  {
   "cell_type": "markdown",
   "metadata": {},
   "source": [
    "In the following I have included the from my data explorations of what accounts tweeted using the hashtag #vaccinesarepoison in the month of August 2019. First I show how I aquired all the relevant tweets and afterwards show who the top accounts were as well as the number of tweets they wrote pertaining to that hashtag in that one month period. "
   ]
  },
  {
   "cell_type": "code",
   "execution_count": null,
   "metadata": {
    "collapsed": true
   },
   "outputs": [],
   "source": [
    "text_query = '#vaccinesarepoison'\n",
    "since_date = '2019-09-01'\n",
    "until_date = '2020-09-31'\n",
    "count = 1000\n",
    "# Creation of query object\n",
    "# tweetCriteria = got.manager.TweetCriteria().setQuerySearch(text_query).setSince(since_date).setUntil(until_date).setMaxTweets(count)\n",
    "tweetCriteria = got.manager.TweetCriteria().setQuerySearch(text_query).setSince(since_date).setUntil(until_date)\n",
    "# Creation of list that contains all tweets\n",
    "tweets = got.manager.TweetManager.getTweets(tweetCriteria)\n",
    "# Creating list of chosen tweet data\n",
    "text_tweets = [[tweet.id, tweet.date, tweet.text, tweet.username, tweet.favorites] for tweet in tweets]\n",
    "# Creation of dataframe from tweets list\n",
    "tweets_df = pd.DataFrame(text_tweets)"
   ]
  },
  {
   "cell_type": "markdown",
   "metadata": {},
   "source": [
    "After having obtained the tweets in the corresponding time frame I decided to explore the users and the number of times they appeared in the search for the hashtag #vaccinesarepoison. In order to find which ones appeared the most I first created a dictionary that counted the frequency of each users appearance. "
   ]
  },
  {
   "cell_type": "markdown",
   "metadata": {},
   "source": [
    "userDic = dict()\n",
    "for t in tweets:\n",
    "    if t.username not in userDic.keys():\n",
    "        userDic[t.username] = 1 \n",
    "    else:\n",
    "        current = userDic[t.username]\n",
    "        userDic[t.username] = current +1"
   ]
  },
  {
   "cell_type": "markdown",
   "metadata": {},
   "source": [
    "<img src=\"userDict.png\">"
   ]
  },
  {
   "cell_type": "markdown",
   "metadata": {},
   "source": [
    "To order the dictionary by frequency where the first entry is the username with the most tweets I sorted the dictionary entries and printed out the top ten users. "
   ]
  },
  {
   "cell_type": "code",
   "execution_count": null,
   "metadata": {
    "collapsed": true
   },
   "outputs": [],
   "source": [
    "sorted_users = sorted(userDic.items(), key=lambda kv: kv[1], reverse=True)"
   ]
  },
  {
   "cell_type": "code",
   "execution_count": null,
   "metadata": {
    "collapsed": true
   },
   "outputs": [],
   "source": [
    "sorted_users"
   ]
  },
  {
   "cell_type": "markdown",
   "metadata": {},
   "source": [
    "<img src=\"sortedAcc.png\">"
   ]
  },
  {
   "cell_type": "code",
   "execution_count": null,
   "metadata": {
    "collapsed": true
   },
   "outputs": [],
   "source": [
    "import collections\n",
    "\n",
    "# conversion back to a dictionary\n",
    "sorted_dict = collections.OrderedDict(sorted_users)"
   ]
  },
  {
   "cell_type": "code",
   "execution_count": null,
   "metadata": {
    "collapsed": true
   },
   "outputs": [],
   "source": [
    "import itertools\n",
    "\n",
    "# Initialize limit  \n",
    "N = 10 \n",
    "    \n",
    "# Using islice() + items()  \n",
    "# Get first N items in dictionary  \n",
    "topAccounts = dict(itertools.islice(sorted_dict.items(), N)) "
   ]
  },
  {
   "cell_type": "code",
   "execution_count": null,
   "metadata": {
    "collapsed": true
   },
   "outputs": [],
   "source": [
    "topAccounts"
   ]
  },
  {
   "cell_type": "markdown",
   "metadata": {},
   "source": [
    "<img src=\"output1.png\">"
   ]
  },
  {
   "cell_type": "markdown",
   "metadata": {},
   "source": [
    "After having seen which accounts correspond to the accounts that posted the most in August 2019, I decided to find out more about the twitter behavior of these accounts in that time period. Thus I looked at the number of tweets in that one month period for each of the top accounts."
   ]
  },
  {
   "cell_type": "code",
   "execution_count": null,
   "metadata": {
    "collapsed": false
   },
   "outputs": [],
   "source": [
    "since_date = '2019-09-01'\n",
    "until_date = '2020-09-31'\n",
    "\n",
    "for acc in topAccounts.keys():\n",
    "    username = acc\n",
    "    count = 100\n",
    "    # Creation of query object\n",
    "    tweetCriteria = got.manager.TweetCriteria().setUsername(username)\\\n",
    "                                        .setMaxTweets(count).setSince(since_date).setUntil(until_date)\n",
    "    # Creation of list that contains all tweets\n",
    "    tweets = got.manager.TweetManager.getTweets(tweetCriteria)\n",
    "    # Creating list of chosen tweet data\n",
    "\n",
    "    print (tweets)\n",
    "    user_tweets = [[tweet.date, tweet.text] for tweet in tweets]\n",
    "    print(user_tweets)\n",
    "    # Creation of dataframe from tweets list\n",
    "    #tweets_df = pd.DataFrame(user_tweets)"
   ]
  },
  {
   "cell_type": "markdown",
   "metadata": {},
   "source": [
    "After GetOldTweets3 no longer was working and my old search queries were no longer useful, I decided to focus my attention to Tweepy, another Twitter library that uses the Twitter API, but would have the limitation of not allowing one to look at older Tweets. Due to this limitation I decided to focus my attention on tweets that expressed anti-vaccination sentiment within the last week. Inspired by what we had discussed in class on natural language processing and sentiment analysis I decided to perform my own sentiment analysis and measure the polarization of some of the Tweets. "
   ]
  },
  {
   "cell_type": "markdown",
   "metadata": {},
   "source": [
    "# Part 2 - exploring data collected via Tweepy"
   ]
  },
  {
   "cell_type": "markdown",
   "metadata": {},
   "source": [
    "## 2.1 Reading in file"
   ]
  },
  {
   "cell_type": "markdown",
   "metadata": {},
   "source": [
    "I collected tweets that used the words vaccines are poison. To learn more about these tweets I first read in the file containing the tweets.\n",
    "\n"
   ]
  },
  {
   "cell_type": "code",
   "execution_count": 47,
   "metadata": {
    "collapsed": true
   },
   "outputs": [],
   "source": [
    "fName = \"tweets_1.txt\"\n",
    "with open(fName, 'r') as file:\n",
    "    all_tweets = [line.strip() for line in file if line != '\\n']"
   ]
  },
  {
   "cell_type": "code",
   "execution_count": 49,
   "metadata": {
    "collapsed": false
   },
   "outputs": [
    {
     "data": {
      "text/plain": [
       "'1. The Earth ISNT flat and there is more evidence pointing towards it being round than fla… https://t.co/6UhLWavQNR'"
      ]
     },
     "execution_count": 49,
     "metadata": {},
     "output_type": "execute_result"
    }
   ],
   "source": [
    "all_tweets[1] # check that we actually were able to get data from our stored file"
   ]
  },
  {
   "cell_type": "code",
   "execution_count": 50,
   "metadata": {
    "collapsed": false
   },
   "outputs": [
    {
     "data": {
      "text/plain": [
       "222"
      ]
     },
     "execution_count": 50,
     "metadata": {},
     "output_type": "execute_result"
    }
   ],
   "source": [
    "len(all_tweets) # number of tweets collected "
   ]
  },
  {
   "cell_type": "markdown",
   "metadata": {},
   "source": [
    "## 2.2 Import libraries and pre-process data"
   ]
  },
  {
   "cell_type": "markdown",
   "metadata": {},
   "source": [
    "The current format of the Twitter data needs to be processed in order to perform sentiment analysis. \n",
    "First the URLs contained in some of the tweets need to be removed as well as getting rid of stopwords to perform frequency and sentiment analysis."
   ]
  },
  {
   "cell_type": "code",
   "execution_count": 16,
   "metadata": {
    "collapsed": true
   },
   "outputs": [],
   "source": [
    "# import necessary libraries\n",
    "import nltk\n",
    "from nltk.corpus import stopwords\n",
    "import re\n",
    "import networkx"
   ]
  },
  {
   "cell_type": "code",
   "execution_count": 17,
   "metadata": {
    "collapsed": true
   },
   "outputs": [],
   "source": [
    "def remove_url(txt):\n",
    "    \"\"\"Replace URLs found in a text string with nothing\n",
    "    \"\"\"\n",
    "    #txt = re.sub('@[^\\s]+','',txt\n",
    "    print(\" \".join(re.sub(\"([^0-9A-Za-z \\t])|(\\w+:\\/\\/\\S+)\", \"\", txt).split()))\n",
    "    return \" \".join(re.sub(\"([^0-9A-Za-z \\t])|(\\w+:\\/\\/\\S+)\", \"\", txt).split())"
   ]
  },
  {
   "cell_type": "code",
   "execution_count": 51,
   "metadata": {
    "collapsed": false
   },
   "outputs": [
    {
     "name": "stdout",
     "output_type": "stream",
     "text": [
      "Heres a trivia for ya\n",
      "1 The Earth ISNT flat and there is more evidence pointing towards it being round than fla\n",
      "HegKong All vaccines are pure poison Fraud that exist to cause amp spread diseases for profit There is No Profit in\n",
      "Smokemeakipperi FormulaMoments craniosurgeon tnewtondunn Vaccines are poison Give me covid any day I think I\n",
      "joewarmington HARRISFAULKNER because big pharma pays media to lie about vaccines they are poison and always have been\n",
      "cfccouch sharrzam Scouserio EthelOrgana piersmorgan realDonaldTrump I dont hate any1 Says more about u if u\n",
      "Frank38328140 marklevinshow Theres a reason why Bill Gates is banned from entering certain countries His vacci\n",
      "Vaccines are poison amp bio weapons\n",
      "Never take them\n",
      "Just step away from the vaccines and viruses Gates Viruses in humans amp computers are not the same thing so quit tr\n",
      "A VIRUS MUST BE INJECTED\n",
      "VACCINES ARE POISON\n",
      "DO NOT TAKE ANY INJECTION MARK OR TATTOO\n",
      "Bill Gates is an Indus\n",
      "KateShemirani Whats deadly is the poison youre filling gullible peoples minds with\n",
      "Like the notion that vacc\n",
      "CNN Vaccines are poison Check out what is in them Fetal matter realDonaldTrump RobertKennedyJr\n",
      "Time2WakeUp2 Vaccines are literally poison in a needle Operation paperclip brough the Nazis scientists over to t\n",
      "JJohnson309 Well Im sure they run their samples well over 40 cycles in the PCR to create positive cases in attemp\n",
      "SonicDeanBoom Because hes a population control freak and his vaccines are poison\n",
      "realDonaldTrump Vaccines are poison\n",
      "People should not be forced or coerced into taking them\n",
      "Pharma and doctors s\n",
      "21WIRE Opportunist Cowards but then if Folks were apathetic and short sighted after being made to pay for essentia\n",
      "tancanman1 RachaelAngelM SherriVest2 JohnFKennnedy I just told you my perfectly healthy cousin became autisti\n",
      "LibertyReport RachaelAngelM SherriVest2 JohnFKennnedy You realize autism is a thing people have before vacc\n",
      "I have a head cold Becoz of no spleen I have to have a PneumoVac\n",
      "Flu Vaccine\n",
      "Meningitis A C W Y Vaccines\n",
      "and now\n",
      "VaccinesToday Vaccines are poison Stop promoting your\n",
      "gavi BillGates You are not a medical expert from where you can know what is good and what is bad for humanity Yo\n",
      "Mine is tOxInS\n",
      "Like water can be a poison at the right dose\n",
      "Its especially stupid to obsess over trace amoun\n",
      "ChrisWickNews I wish all Americans thought like you Vaccines are poison\n",
      "RachaelAngelM tancanman1 SherriVest2 JohnFKennnedy Im 100 not for vaccines though they are poison and can\n",
      "Tigress58774042 KirstieMAllsopp The state of the publics health is appalling Thats the crisis not covid Look\n",
      "SJPFISH realDonaldTrump NOT A CHANCE There are CLEAN VACCINES amp FAKE VACCINES placebos that the leaders will\n",
      "pelindabaX ChrisWickNews They are lying about the numbers to scare everyone to obey so that when the vaccine is b\n",
      "realDonaldTrump ALL vaccines ARE TOXIC POISON Please stop listening to everyone Listen to Robert F Kennedy\n",
      "kfunk937 SolveReignSilve krebiozen ChrisJohnsonMD immunotoxPhD BGLTHMND LithiumCa shepardharley doritmi\n",
      "DTraumaangel ernie64520636 huskymoon57 Kelly3138 ABC Sorry I was unaware of the gender so I defaulted to male\n",
      "piersmorgan Why would I take a vaccine I eat healthy I dont poison my body its the likes of you that are pushi\n",
      "KassandraKitson Vaccines Same with peanut allergies All of a sudden kids cant eat peanut butter Vaccines Are Poison\n",
      "COVIDIDIOTSyea but its all a conspirisysay the morons who have spent years taking paranoia inducing cannab\n",
      "jemmytwitcher KassandraKitson Come onat some point we have to listen to these poor mothers who took their nor\n",
      "kellsley They do have a plan they will be getting rich as they poison us with Vaccines that they are passing legi\n",
      "Cillasup13 DDDAAA74 thewle piersmorgan And its the vaccines and all the poison they put in it that are factors for a lot of diseases\n",
      "6unf46 Why are they using Africa to test the vaccines Havent they done enough with their poison\n",
      "\n",
      "VACCINES ARE POISON\n",
      "UNSAFE AND NEVER TESTED\n",
      "REFUSE\n",
      "Welp just saw a dude with a Vaccines are poison sign and an American flag standing on a street corner so thats\n",
      "SmartDustin71 WhiteHouse No vaccine is necessary But Trump knows some people are so ignorant they still believe\n",
      "An0n661 Theyve cured cancer by giving people measles before I think hes pushing the vaccine so everyone will ta\n",
      "osborncorrie emzorbit markknoller These vaccines are probably poison purchased from Russia or China on Tramps direct orders\n",
      "Whatever does the Pope say about murdered babies in vaccines\n",
      "However do They explain away DNARNA manipulat\n",
      "CatsTalkBack1 tliarch WHEN THE AMERICAN PATRIOTIC CORE OF THIS COUNTRY ARE SHOWN WHAT THEY TEACH WHAT UNCONSTITU\n",
      "Their plans are more diabolical and we wont even share it any further sure you already get the point\n",
      "Just know\n",
      "mjamesevans BorisJohnson 10DowningStreet yeah but he needs to keep up the because his friends are expecting\n",
      "Despite my instincts telling me how to keep my immune system strong and healthy I will listen to the government and\n",
      "realDonaldTrump PatriotsInTune All vaccines are poison Check out the real story about spanish flu Only the vacc\n",
      "JuliaHB1 talkRADIO Why dont you say to Pratt Hancock you are out of your depth arent you You are bringing abou\n",
      "CTVNews Vaccines are poison Regardless of how small the dose a small amount of poison doesnt suddenly become not poison\n",
      "JoshSFC94 ianbrown Spot on theyve openly admitted theyre bringing in this bullshit dystopian world of constant\n",
      "So the government are going to force an untested vaccine on the public Sorry BorisJohnson my body my choice Id r\n",
      "Anti Vaxxer Aluminium isnt safe\n",
      "Science there is more aluminium in human breast milk than there is in a vac\n",
      "mattcohen4real yes the masks are bad because there are controlling device and the adults are portraying their poli\n",
      "atrupar So the lunatics are RUNNING the Sanatorium Thats why I believe absolutely nothing that comes out of any\n",
      "realDonaldTrump Youre sad that you are pushing a vaccine thats not tested thoroughly Vaccines havent even start\n",
      "BackIam5 QohnG After working in a pharmacy with a degree I can tell you that most of the ingredients in the vacc\n",
      "I guess then I am not part of team red\n",
      "cuz the vaccine shit really scares me\n",
      "\n",
      "I am so tired of thinking about v\n",
      "kiananourii mmpadellan realDonaldTrump They are anti anything thats not Bill gates Vax And were very mad when l\n",
      "airjayne realDonaldTrump They are anti anything thats not Bill gates Vax And were very mad when liberals refuse\n",
      "HeidiLa78439532 HubertLinssen1 realDonaldTrump They are anti anything thats not Bill gates Vax And were very ma\n",
      "Boffintosh itsJeffTiedrich realDonaldTrump They are anti anything thats not Bill gates Vax And were very mad wh\n",
      "RupaliChadhaMD realDonaldTrump Yep But vaccines are poison\n",
      "The Pilgrims Society has a mission to cull the human herd with poison vaccines Here President Trump gives support\n",
      "CalebJHull The CDC director IS a moron Masks are more effective than vaccines Translation You will be wearing\n",
      "marcpollington KateShemirani earthdweller8 Usually is the key word\n",
      "Why are vaccines not poison I can name A\n",
      "Hilarious to hear AlexJones trying to justify Trumps placebo vaccine to his unquestioning viewers the majority\n",
      "JordanSchachtel To be fairhe did say the mask would protect and save lives more than the vaccines\n",
      "It is like\n",
      "MattHancock Yahuah deal with you Those vaccines our poison These rules are fascism DO YOU FEAR ZOMBIES THERES\n",
      "nytimes\n",
      "POISON for PROFIT Look around You\n",
      "Read stats ie top 10 cod etc the Holy Bible\n",
      "2 schools\n",
      "RaenyaSalisbury previouslyGO372 Urylle viruses are not contagious and do not cause illness therefore vaccines are pure poison\n",
      "woodsharp Just see your family these rules are just making everyones mental health shot to pieces which is what\n",
      "MilitaryampMedical Indust complex are salivating to poison us wmultiple Covid 19 vaccinesthat we dont need\n",
      "Sin\n",
      "realDonaldTrump Vaccines are fucking poison\n",
      "realdefender JoeBiden Vaccines that are ready after November 3rd are more likely to have undergone the full rig\n",
      "faithfriends89 JillColtonFree I hope you dont block me because I genuinely enjoy your tweets but why are vac\n",
      "realDonaldTrump No they are not Thousands of kids worldwide permanently injured by vaccines BAN vaccines until c\n",
      "BillyMontana81 1 the ingredients are not the poison rather its the dosage of them that makes the poison Also so\n",
      "hfnabiel FloridaGirlUSA9 realDonaldTrump They certainly do Read about India and the Gates vaccines and how they\n",
      "CDCDirector Youre a criminal and your vaccines are poison\n",
      "realDonaldTrump vaccines are poison you should give the people the choice to vaccinate or not without consequences\n",
      "All these bullshit poison vaccines being injected into kids from the second they are born until grade school is rea\n",
      "VACCINES have poison in them\n",
      "SCIENTISTS are constantly changing their story as new evidence is discovered\n",
      "GOP realDonaldTrump We arent taking poison unproven vaccines Complete IDIOCRACY and total RETARDATION You are\n",
      "Bill Gates owns stock of Monsanto Poison but he wants to save us with his vaccines\n",
      "\n",
      "PEOPLE ARE FUCKTARDS\n",
      "GOP realDonaldTrump Im a Conservative I know vaccines are harmful Flu vaccine raises the chances of getting th\n",
      "EmmaRoulstone All vaccines are poison and none of them prevent disease because viruses arent contagious nor do th\n",
      "realDonaldTrump Vaccines are useless and are a poison\n",
      "alyssaofm danjohnson8776 momupdated frankpallotta He literally says that vaccines poison children with mercur\n",
      "realDonaldTrump No thanks Keep your poison you know the real deal with vaccines you are making it hard on you\n",
      "Oh this is amazing people are taking the blinders off amp seeing what really is happening we have CDC scientists fak\n",
      "realDonaldTrump Vaccines are poison wtf are you talking about\n",
      "realDonaldTrump Dont need vaccines Vaccines are poison to our body\n",
      "DanEvans1986 Its just optics If he says vaccines are poison the media has another hitting point AND now they do\n",
      "Daughte65179153 hrkbenowen Yes vaccines are poison\n",
      "realDonaldTrump No thanksI dont need the poison you are dishing out I will let you know that we as a collecti\n",
      "taoofthedow AgileConcept JaiKanta22 IreneMavrakakis swedishchf handmadekathy seraphina416 CharitableFury\n",
      "KarluskaP And they wonder why we are singing You can shove your poison vaccines up your arse\n",
      "gr33nbot VACCINES ARE CURRENTLY POISON specially for newborns and babies\n",
      "ChuckCallesto Hell no Vaccines are toxic poison\n",
      "simsy1977 Thats why Im asking that question mate as he knows vaccines are poison Very strange if you ask me\n",
      "And then theres an anti mask gang Let me tell you the speciality of these its members near me\n",
      "Prior to covid 80\n",
      "realDonaldTrump Russian Vaccines are poison You first\n",
      "There is NOTHING SAFE ABOUT VACCINES They are all poison pricks\n",
      "HHSGov Vaccines are poison beware\n",
      "NarricTechna Just all of them V\n",
      "That its man made\n",
      "Bill Gates made it\n",
      "China made it\n",
      "Vaccines are fakepoison\n",
      "So\n",
      "LOOKING GOOD BORIS\n",
      "Agenda21 NWO BorisJohnson BorisTheLiar BillGates StopBillGates Luciferase\n",
      "WHEN YOURE IN CAHOOTS WITH THE DEVIL\n",
      "Agenda21 NWO BorisJohnson BorisTheLiar BillGates StopBillGates\n",
      "GovAbbott No thanks Flu vaccines are junk and full of poison\n",
      "I used to be Pro Flu Shot and Pro Vaccines got it every year and also had my kids get it this covidhoax\n",
      "hrkbenowen Never have never will Shotsvaccines are poison\n",
      "AliciaSmith19 seungminkim There is a huge difference between All vaccines are poison and This dictator will k\n",
      "MicrobiomDigest Charbrevolution Rosewind2007 VaCcInEs SaVe LiVeS Sure thats why for over 35 years the spinele\n",
      "Marfoogle All vaccines alter your DNA they are poison Do not consent\n",
      "Thank goodness that we have this privatesector expertise that we want to shape into a global public good that get\n",
      "BillGates lets talk about how you are friends with pedophiles like Epstein and many nwo globalists who are pe\n",
      "Gerrieag LeProfMoriarty SandraWors3 Your girls are lucky to have a parent like you who knows vaccines are poison\n",
      "washingtonpost The correct VACCINES cant fail\n",
      "Theyre already being used by the terror police in the worlds po\n",
      "AgarTron TeenMaleSleuth hottankiestake redcommune the chemtrail conspiracy is that those trails you see behi\n",
      "Is not just one guy they are 20 or more I dont know I do know they could solve the problems you mencion and mak\n",
      "BagelJuic3 LeslieMarshall realDonaldTrump Unfortunately it does bill gates vaccines are poison to our children\n",
      "kevdyson ShesElectricUK fun fact a average vaccine takes about 10 years to fully be develop and introduced in\n",
      "bjconk01 Vaccines are a MESS Very dangerous and will be used to not only poison but also to track and be used as\n",
      "BuckSexton Shalom Aleichem Im NOT gonna let ANYONE stick me with a needle amp pump me fulla poison amp destroy my im\n",
      "AndrewRomano YahooNews YouGov It is a lie out of the pit of hell to relate this to trump Vaccines are unsafe R\n",
      "MikeHilligoss EmeraldRobinson What does it matter if its Gates of Hell or anyone else Vaccines are poison no mat\n",
      "LauraZepam ThomTillis It shocks me that medical professionals can get so conspiracy theory minded as to belie\n",
      "A certain Pres Duterte supporter with a considerable number of followers said in one of his podcasts that the secr\n",
      "ShropshireStar Plandemic\n",
      "Scamdemic\n",
      "They are the same\n",
      "Wear muzzels like gd sheep\n",
      "And top up on them poison vaccines\n",
      "\n",
      "chrissyfarr KejNah Use common sense in communication styles Masks restrict oxygen and are illegal to force Vacc\n",
      "bariweiss I have unapologetically ended friendships and familial relationships with people who believe that oh d\n",
      "coronavirus FEAR campaign take 2\n",
      "MSM BILL GATES amp the other reptiles are mad because no human being is letting y\n",
      "klkc2009 RitaThaQueen DONT TAKE ANY VACCINES THEY ARE POISON Take some Echinacea eat fruit amp veggies drink green tea with honey\n",
      "Nice tweet Marie\n",
      "Fuck the NWO\n",
      "F B G\n",
      "F Dr F\n",
      "Masks sucks\n",
      "Vaccines are poison\n",
      "\n",
      "some vaccines will turn your child AUTISTIC thunder sounds children crying in the background\n",
      "others trump\n",
      "YOU CANT HIDE THE TRUTH VACCINES ARE PURE POISON\n",
      "THESE INGREDIENTS ARE IN ALL VACCINES MOST OF THEM ARE POISON\n",
      "CallMeEOnly AdamJoshDotCom It would not exist without it And using dead animal parts is no better\n",
      "Vaccines ar\n",
      "mythicsful11993 TADinKaty nishantchat Show me a peer reviewed articles where any side effects dont exist and re\n",
      "The premise of vaccines safe is a lie nothing safe about vaccines they are poison just look at the the decades\n",
      "Thomas1774Paine AClark93088221 Vaccines literally are the disease Poison\n",
      "Imperial college Chris Whitty and popenshaw are all heavily funded by Bill and Melinda Gates in their quest to p\n",
      "Please do not take vaccines They are poison You can only detox out so much\n",
      "GSK and Sanofi COVID19 Vaccine Prod\n",
      "seagulllover69 Alicia lip filler and her daughter claim vaccines are poison etc saying you shouldnt put it in y\n",
      "trishphall remybernstein voguemagazine There is really a fake race There very well may be pharmaceutical compan\n",
      "jksback KellyanneHockeyMom1979 Yes Vaccines are POISON I gave my baby KayleighAnne Roselynn Maya Claire the fl\n",
      "We have no idea where we are or what we are we should stop letting the opinions of people who poison us tell us wha\n",
      "globalnews This sums it up the kids are the ones paying the price for this FakePandemic and are being used as tes\n",
      "Changeling2525 Sounds like you dodged a bullet there I dont trust any of their socalled vaccines They are po\n",
      "Then parents wonder how their children are getting autism You cant make a baby healthy injecting it with poison\n",
      "piersmorgan As someone said in comments Shes against vaccines as she believes they contain poison even though th\n",
      "All vaccines should be banned They are all filled with poison that is bad for everyone no matter how long it takes\n",
      "piersmorgan Oh YAWN Piersy BOY your script is getting soooo old VACCINES ARE POISON FACT Go back to Amer\n",
      "aprilishuman wafu23RN piersmorgan Please explain how She claims to have cured her own cancer but she didnt S\n",
      "Medicine is poison\n",
      "The moon is fake\n",
      "Vaccines cause autism\n",
      "Crystals cure sickness\n",
      "there are no facts proving these\n",
      "lilcin3 albertpenello I need to see it that guy tom blocked me for a political tweetjoke where he was talk\n",
      "FraserAlaina intheMatrixxx nepheshim Took awhile but I came up with this Short versionYou can stick athe Cvir\n",
      "realDonaldTrump its time for the scare tactics to end Its time to end the liberal agenda Vaccines are not th\n",
      "amy88123 MattHancock You should know that vaccines are full of poison Never ever do it Just help them naturally\n",
      "fairness2all Kingdom49867884 One more thing do you not think that the cause could be a lack of good foodany foo\n",
      "NEW TRENDING BRIT SONG BLAST FAR amp WIDE EVERYWHERE YOU CAN STICK YOUR POISON VACCINES UP YOUR ARSE WE ARE THE\n",
      "truthseeker6761 BradleeDean1 They are trying to gain legitimacy before they push their battery acid vaccines th\n",
      "Kellyk84471553 The only ones the vaccine will work for is the psychopaths trying to destroy humanity vaccines are\n"
     ]
    },
    {
     "data": {
      "text/plain": [
       "['Heres a trivia for ya',\n",
       " '1 The Earth ISNT flat and there is more evidence pointing towards it being round than fla',\n",
       " 'HegKong All vaccines are pure poison Fraud that exist to cause amp spread diseases for profit There is No Profit in',\n",
       " 'Smokemeakipperi FormulaMoments craniosurgeon tnewtondunn Vaccines are poison Give me covid any day I think I',\n",
       " 'joewarmington HARRISFAULKNER because big pharma pays media to lie about vaccines they are poison and always have been']"
      ]
     },
     "execution_count": 51,
     "metadata": {},
     "output_type": "execute_result"
    }
   ],
   "source": [
    "all_tweets_no_urls = [remove_url(tweet) for tweet in all_tweets]\n",
    "all_tweets_no_urls[:5] # output of some tweets without the url "
   ]
  },
  {
   "cell_type": "code",
   "execution_count": 64,
   "metadata": {
    "collapsed": false
   },
   "outputs": [
    {
     "data": {
      "text/plain": [
       "['cfccouch',\n",
       " 'sharrzam',\n",
       " 'scouserio',\n",
       " 'ethelorgana',\n",
       " 'piersmorgan',\n",
       " 'realdonaldtrump',\n",
       " 'i',\n",
       " 'dont',\n",
       " 'hate',\n",
       " 'any1',\n",
       " 'says',\n",
       " 'more',\n",
       " 'about',\n",
       " 'u',\n",
       " 'if',\n",
       " 'u']"
      ]
     },
     "execution_count": 64,
     "metadata": {},
     "output_type": "execute_result"
    }
   ],
   "source": [
    "words_in_tweet = [tweet.lower().split() for tweet in all_tweets_no_urls] # split the tweets up into single in words\n",
    "words_in_tweet[5]"
   ]
  },
  {
   "cell_type": "markdown",
   "metadata": {},
   "source": [
    "## 2.3 Removing stopwords"
   ]
  },
  {
   "cell_type": "markdown",
   "metadata": {},
   "source": [
    "import os\n",
    "import pandas as pd\n",
    "import matplotlib.pyplot as plt\n",
    "import seaborn as sns\n",
    "import itertools\n",
    "import collections"
   ]
  },
  {
   "cell_type": "code",
   "execution_count": 65,
   "metadata": {
    "collapsed": false
   },
   "outputs": [
    {
     "name": "stderr",
     "output_type": "stream",
     "text": [
      "[nltk_data] Downloading package stopwords to\n",
      "[nltk_data]     /Users/andreamock/nltk_data...\n",
      "[nltk_data]   Package stopwords is already up-to-date!\n"
     ]
    },
    {
     "data": {
      "text/plain": [
       "True"
      ]
     },
     "execution_count": 65,
     "metadata": {},
     "output_type": "execute_result"
    }
   ],
   "source": [
    "nltk.download('stopwords')"
   ]
  },
  {
   "cell_type": "code",
   "execution_count": 66,
   "metadata": {
    "collapsed": false
   },
   "outputs": [
    {
     "data": {
      "text/plain": [
       "['as',\n",
       " 'through',\n",
       " 'their',\n",
       " 'down',\n",
       " 'those',\n",
       " \"you're\",\n",
       " 'who',\n",
       " 'very',\n",
       " 'should',\n",
       " 'until']"
      ]
     },
     "execution_count": 66,
     "metadata": {},
     "output_type": "execute_result"
    }
   ],
   "source": [
    "stop_words = set(stopwords.words('english'))\n",
    "\n",
    "# View a few words from the set\n",
    "list(stop_words)[0:10]"
   ]
  },
  {
   "cell_type": "code",
   "execution_count": 67,
   "metadata": {
    "collapsed": true
   },
   "outputs": [],
   "source": [
    "# Remove stop words from each tweet list of words\n",
    "tweets_nsw = [[word for word in tweet_words if not word in stop_words]\n",
    "              for tweet_words in words_in_tweet]"
   ]
  },
  {
   "cell_type": "code",
   "execution_count": 68,
   "metadata": {
    "collapsed": false
   },
   "outputs": [
    {
     "data": {
      "text/plain": [
       "['smokemeakipperi',\n",
       " 'formulamoments',\n",
       " 'craniosurgeon',\n",
       " 'tnewtondunn',\n",
       " 'vaccines',\n",
       " 'poison',\n",
       " 'give',\n",
       " 'covid',\n",
       " 'day',\n",
       " 'think']"
      ]
     },
     "execution_count": 68,
     "metadata": {},
     "output_type": "execute_result"
    }
   ],
   "source": [
    "tweets_nsw[3] # entry with no stopwords"
   ]
  },
  {
   "cell_type": "code",
   "execution_count": 69,
   "metadata": {
    "collapsed": false
   },
   "outputs": [
    {
     "data": {
      "text/plain": [
       "[('vaccines', 99),\n",
       " ('poison', 86),\n",
       " ('realdonaldtrump', 26),\n",
       " ('gates', 14),\n",
       " ('vaccine', 13),\n",
       " ('dont', 11),\n",
       " ('bill', 11),\n",
       " ('amp', 10),\n",
       " ('thats', 10),\n",
       " ('people', 9),\n",
       " ('like', 8),\n",
       " ('know', 8),\n",
       " ('take', 7),\n",
       " ('piersmorgan', 6),\n",
       " ('im', 6)]"
      ]
     },
     "execution_count": 69,
     "metadata": {},
     "output_type": "execute_result"
    }
   ],
   "source": [
    "all_words_nsw = list(itertools.chain(*tweets_nsw))\n",
    " \n",
    "counts_nsw = collections.Counter(all_words_nsw) # count the frequency of the words not including stopwords\n",
    "\n",
    "counts_nsw.most_common(15) # get a lost of the most common words in our twitter data "
   ]
  },
  {
   "cell_type": "code",
   "execution_count": 70,
   "metadata": {
    "collapsed": false
   },
   "outputs": [
    {
     "data": {
      "text/html": [
       "<div>\n",
       "<style scoped>\n",
       "    .dataframe tbody tr th:only-of-type {\n",
       "        vertical-align: middle;\n",
       "    }\n",
       "\n",
       "    .dataframe tbody tr th {\n",
       "        vertical-align: top;\n",
       "    }\n",
       "\n",
       "    .dataframe thead th {\n",
       "        text-align: right;\n",
       "    }\n",
       "</style>\n",
       "<table border=\"1\" class=\"dataframe\">\n",
       "  <thead>\n",
       "    <tr style=\"text-align: right;\">\n",
       "      <th></th>\n",
       "      <th>words</th>\n",
       "      <th>count</th>\n",
       "    </tr>\n",
       "  </thead>\n",
       "  <tbody>\n",
       "    <tr>\n",
       "      <th>0</th>\n",
       "      <td>vaccines</td>\n",
       "      <td>99</td>\n",
       "    </tr>\n",
       "    <tr>\n",
       "      <th>1</th>\n",
       "      <td>poison</td>\n",
       "      <td>86</td>\n",
       "    </tr>\n",
       "    <tr>\n",
       "      <th>2</th>\n",
       "      <td>realdonaldtrump</td>\n",
       "      <td>26</td>\n",
       "    </tr>\n",
       "    <tr>\n",
       "      <th>3</th>\n",
       "      <td>gates</td>\n",
       "      <td>14</td>\n",
       "    </tr>\n",
       "    <tr>\n",
       "      <th>4</th>\n",
       "      <td>vaccine</td>\n",
       "      <td>13</td>\n",
       "    </tr>\n",
       "  </tbody>\n",
       "</table>\n",
       "</div>"
      ],
      "text/plain": [
       "             words  count\n",
       "0         vaccines     99\n",
       "1           poison     86\n",
       "2  realdonaldtrump     26\n",
       "3            gates     14\n",
       "4          vaccine     13"
      ]
     },
     "execution_count": 70,
     "metadata": {},
     "output_type": "execute_result"
    }
   ],
   "source": [
    "clean_tweets_nsw = pd.DataFrame(counts_nsw.most_common(15),\n",
    "                             columns=['words', 'count'])\n",
    "clean_tweets_nsw.head() # visualization of the top words "
   ]
  },
  {
   "cell_type": "markdown",
   "metadata": {},
   "source": [
    "## 2.4 Plotting the word frequencies"
   ]
  },
  {
   "cell_type": "markdown",
   "metadata": {},
   "source": [
    "To get a better sense of the language and words used in our Twitter data,\n",
    "I used matplotlib.pyplot to plot the frequency of the words that came up in the tweets. "
   ]
  },
  {
   "cell_type": "code",
   "execution_count": 71,
   "metadata": {
    "collapsed": false
   },
   "outputs": [
    {
     "data": {
      "image/png": "[encoded data removed]",
      "text/plain": [
       "<Figure size 576x576 with 1 Axes>"
      ]
     },
     "metadata": {
      "needs_background": "light"
     },
     "output_type": "display_data"
    }
   ],
   "source": [
    "fig, ax = plt.subplots(figsize=(8, 8))\n",
    "\n",
    "# Plot horizontal bar graph\n",
    "clean_tweets_nsw.sort_values(by='count').plot.barh(x='words',\n",
    "                      y='count',\n",
    "                      ax=ax,\n",
    "                      color=\"purple\")\n",
    "\n",
    "ax.set_title(\"Common Words Found in Tweets (Without Stop Words)\")\n",
    "\n",
    "plt.show()"
   ]
  },
  {
   "cell_type": "markdown",
   "metadata": {},
   "source": [
    "## 2.5 Sentiment analysis using TextBlob"
   ]
  },
  {
   "cell_type": "markdown",
   "metadata": {},
   "source": [
    "Although we know how often particular words pop up in Tweets to get a better sense of what type of sentiment\n",
    "each tweet is projecting we use the Python library TextBlob to perform our analysis."
   ]
  },
  {
   "cell_type": "code",
   "execution_count": 72,
   "metadata": {
    "collapsed": true
   },
   "outputs": [],
   "source": [
    "from textblob import TextBlob\n",
    "\n",
    "# Create textblob objects of the tweets\n",
    "sentiment_objects = [TextBlob(tweet) for tweet in all_tweets_no_urls]"
   ]
  },
  {
   "cell_type": "code",
   "execution_count": 73,
   "metadata": {
    "collapsed": false
   },
   "outputs": [
    {
     "data": {
      "text/plain": [
       "TextBlob(\"cfccouch sharrzam Scouserio EthelOrgana piersmorgan realDonaldTrump I dont hate any1 Says more about u if u\")"
      ]
     },
     "execution_count": 73,
     "metadata": {},
     "output_type": "execute_result"
    }
   ],
   "source": [
    "sentiment_objects[5] # example of one of th textblob entries that will be analyzed"
   ]
  },
  {
   "cell_type": "code",
   "execution_count": 74,
   "metadata": {
    "collapsed": false
   },
   "outputs": [
    {
     "data": {
      "text/plain": [
       "Sentiment(polarity=-0.15000000000000002, subjectivity=0.7, assessments=[(['hate'], -0.8, 0.9, None), (['more'], 0.5, 0.5, None)])"
      ]
     },
     "execution_count": 74,
     "metadata": {},
     "output_type": "execute_result"
    }
   ],
   "source": [
    "sentiment_objects[5].sentiment_assessments"
   ]
  },
  {
   "cell_type": "code",
   "execution_count": 75,
   "metadata": {
    "collapsed": true
   },
   "outputs": [],
   "source": [
    "sentiment_values = [[tweet.sentiment.polarity, str(tweet)] for tweet in sentiment_objects]"
   ]
  },
  {
   "cell_type": "code",
   "execution_count": 76,
   "metadata": {
    "collapsed": false
   },
   "outputs": [
    {
     "data": {
      "text/plain": [
       "[[-0.15000000000000002,\n",
       "  'cfccouch sharrzam Scouserio EthelOrgana piersmorgan realDonaldTrump I dont hate any1 Says more about u if u'],\n",
       " [0.21428571428571427,\n",
       "  'Frank38328140 marklevinshow Theres a reason why Bill Gates is banned from entering certain countries His vacci'],\n",
       " [0.0, 'Vaccines are poison amp bio weapons'],\n",
       " [0.0, 'Never take them'],\n",
       " [0.0,\n",
       "  'Just step away from the vaccines and viruses Gates Viruses in humans amp computers are not the same thing so quit tr']]"
      ]
     },
     "execution_count": 76,
     "metadata": {},
     "output_type": "execute_result"
    }
   ],
   "source": [
    "sentiment_values[5:10]"
   ]
  },
  {
   "cell_type": "code",
   "execution_count": 77,
   "metadata": {
    "collapsed": false
   },
   "outputs": [
    {
     "data": {
      "text/html": [
       "<div>\n",
       "<style scoped>\n",
       "    .dataframe tbody tr th:only-of-type {\n",
       "        vertical-align: middle;\n",
       "    }\n",
       "\n",
       "    .dataframe tbody tr th {\n",
       "        vertical-align: top;\n",
       "    }\n",
       "\n",
       "    .dataframe thead th {\n",
       "        text-align: right;\n",
       "    }\n",
       "</style>\n",
       "<table border=\"1\" class=\"dataframe\">\n",
       "  <thead>\n",
       "    <tr style=\"text-align: right;\">\n",
       "      <th></th>\n",
       "      <th>polarity</th>\n",
       "      <th>tweet</th>\n",
       "    </tr>\n",
       "  </thead>\n",
       "  <tbody>\n",
       "    <tr>\n",
       "      <th>0</th>\n",
       "      <td>0.000000</td>\n",
       "      <td>Heres a trivia for ya</td>\n",
       "    </tr>\n",
       "    <tr>\n",
       "      <th>1</th>\n",
       "      <td>0.091667</td>\n",
       "      <td>1 The Earth ISNT flat and there is more eviden...</td>\n",
       "    </tr>\n",
       "    <tr>\n",
       "      <th>2</th>\n",
       "      <td>0.214286</td>\n",
       "      <td>HegKong All vaccines are pure poison Fraud tha...</td>\n",
       "    </tr>\n",
       "    <tr>\n",
       "      <th>3</th>\n",
       "      <td>0.000000</td>\n",
       "      <td>Smokemeakipperi FormulaMoments craniosurgeon t...</td>\n",
       "    </tr>\n",
       "    <tr>\n",
       "      <th>4</th>\n",
       "      <td>0.000000</td>\n",
       "      <td>joewarmington HARRISFAULKNER because big pharm...</td>\n",
       "    </tr>\n",
       "  </tbody>\n",
       "</table>\n",
       "</div>"
      ],
      "text/plain": [
       "   polarity                                              tweet\n",
       "0  0.000000                              Heres a trivia for ya\n",
       "1  0.091667  1 The Earth ISNT flat and there is more eviden...\n",
       "2  0.214286  HegKong All vaccines are pure poison Fraud tha...\n",
       "3  0.000000  Smokemeakipperi FormulaMoments craniosurgeon t...\n",
       "4  0.000000  joewarmington HARRISFAULKNER because big pharm..."
      ]
     },
     "execution_count": 77,
     "metadata": {},
     "output_type": "execute_result"
    }
   ],
   "source": [
    "# Create dataframe containing the polarity value and tweet text\n",
    "sentiment_df = pd.DataFrame(sentiment_values, columns=[\"polarity\", \"tweet\"])\n",
    "\n",
    "sentiment_df.head()"
   ]
  },
  {
   "cell_type": "markdown",
   "metadata": {},
   "source": [
    "## 2.7 Visualization of sentiment"
   ]
  },
  {
   "cell_type": "code",
   "execution_count": 78,
   "metadata": {
    "collapsed": false
   },
   "outputs": [
    {
     "data": {
      "image/png": "[encoded data removed]",
      "text/plain": [
       "<Figure size 576x432 with 1 Axes>"
      ]
     },
     "metadata": {
      "needs_background": "light"
     },
     "output_type": "display_data"
    }
   ],
   "source": [
    "fig, ax = plt.subplots(figsize=(8, 6))\n",
    "\n",
    "# Plot histogram of the polarity values\n",
    "sentiment_df.hist(bins=[-1, -0.75, -0.5, -0.25, 0.25, 0.5, 0.75, 1],\n",
    "             ax=ax,\n",
    "             color=\"purple\")\n",
    "\n",
    "plt.title(\"Sentiments from Tweets on Vaccines\")\n",
    "plt.show()"
   ]
  },
  {
   "cell_type": "markdown",
   "metadata": {},
   "source": [
    "Looking at the visualization above showed that most Tweets were identified as neutral by Textblob despite some of them portraying very negative language or conspiracy theories."
   ]
  },
  {
   "cell_type": "markdown",
   "metadata": {},
   "source": [
    "# Part 3 - Analyzing more Twitter data"
   ]
  },
  {
   "cell_type": "markdown",
   "metadata": {},
   "source": [
    "After collecting some initial data, and discovering that the performing sentiment analysis on crude data did not provide enough for an depth analysis, I decided to look for other ways to gather more information about the users as well as the Tweets being written on the topic of anti-vaccination. The additional Twitter data included account names, the number of followers, the tweets and since when the account was active. This wealth of information will allow us to answer a lot of different questions with regards to our data."
   ]
  },
  {
   "cell_type": "code",
   "execution_count": 87,
   "metadata": {
    "collapsed": false
   },
   "outputs": [],
   "source": [
    "import pandas as pd\n",
    "aids_data = pd.read_csv('vaccinescauseaids_twitter_data.csv') # importing csv file with all the user data on #vaccinescauseaids"
   ]
  },
  {
   "cell_type": "code",
   "execution_count": 88,
   "metadata": {
    "collapsed": false
   },
   "outputs": [
    {
     "data": {
      "text/html": [
       "<div>\n",
       "<style scoped>\n",
       "    .dataframe tbody tr th:only-of-type {\n",
       "        vertical-align: middle;\n",
       "    }\n",
       "\n",
       "    .dataframe tbody tr th {\n",
       "        vertical-align: top;\n",
       "    }\n",
       "\n",
       "    .dataframe thead th {\n",
       "        text-align: right;\n",
       "    }\n",
       "</style>\n",
       "<table border=\"1\" class=\"dataframe\">\n",
       "  <thead>\n",
       "    <tr style=\"text-align: right;\">\n",
       "      <th></th>\n",
       "      <th>username</th>\n",
       "      <th>acctdesc</th>\n",
       "      <th>location</th>\n",
       "      <th>following</th>\n",
       "      <th>followers</th>\n",
       "      <th>totaltweets</th>\n",
       "      <th>usercreatedts</th>\n",
       "      <th>tweetcreatedts</th>\n",
       "      <th>retweetcount</th>\n",
       "      <th>text</th>\n",
       "      <th>hashtags</th>\n",
       "    </tr>\n",
       "  </thead>\n",
       "  <tbody>\n",
       "    <tr>\n",
       "      <th>0</th>\n",
       "      <td>AdamYoung329</td>\n",
       "      <td>Married, Father to two boys, huskies Nekola an...</td>\n",
       "      <td>Welland, Ontario</td>\n",
       "      <td>535</td>\n",
       "      <td>296</td>\n",
       "      <td>8577</td>\n",
       "      <td>2011-10-14 23:22:07</td>\n",
       "      <td>2020-09-21 02:47:57</td>\n",
       "      <td>86</td>\n",
       "      <td>If I thought COVID was fake, killed nobody, an...</td>\n",
       "      <td>[]</td>\n",
       "    </tr>\n",
       "    <tr>\n",
       "      <th>1</th>\n",
       "      <td>LandonCraigie</td>\n",
       "      <td>Extremely muscular. Live in a remote castle wi...</td>\n",
       "      <td>Canada</td>\n",
       "      <td>4994</td>\n",
       "      <td>1745</td>\n",
       "      <td>8619</td>\n",
       "      <td>2017-05-05 02:04:03</td>\n",
       "      <td>2020-09-21 02:42:17</td>\n",
       "      <td>86</td>\n",
       "      <td>If I thought COVID was fake, killed nobody, an...</td>\n",
       "      <td>[]</td>\n",
       "    </tr>\n",
       "    <tr>\n",
       "      <th>2</th>\n",
       "      <td>drhoctor2</td>\n",
       "      <td>Everything that hasn't killed me has made me M...</td>\n",
       "      <td>Southern Tier, NY</td>\n",
       "      <td>4740</td>\n",
       "      <td>3275</td>\n",
       "      <td>326202</td>\n",
       "      <td>2009-03-27 15:53:23</td>\n",
       "      <td>2020-09-21 00:11:58</td>\n",
       "      <td>86</td>\n",
       "      <td>If I thought COVID was fake, killed nobody, an...</td>\n",
       "      <td>[]</td>\n",
       "    </tr>\n",
       "    <tr>\n",
       "      <th>3</th>\n",
       "      <td>DanaSmithTN04</td>\n",
       "      <td>Is some sanity really all that big of an ask?</td>\n",
       "      <td>NaN</td>\n",
       "      <td>161</td>\n",
       "      <td>113</td>\n",
       "      <td>1928</td>\n",
       "      <td>2020-08-19 23:45:18</td>\n",
       "      <td>2020-09-20 22:54:21</td>\n",
       "      <td>86</td>\n",
       "      <td>If I thought COVID was fake, killed nobody, an...</td>\n",
       "      <td>[]</td>\n",
       "    </tr>\n",
       "    <tr>\n",
       "      <th>4</th>\n",
       "      <td>PersistentObsvr</td>\n",
       "      <td>“I despise Trump with the intensity of a thous...</td>\n",
       "      <td>Indianapolis, IN</td>\n",
       "      <td>5001</td>\n",
       "      <td>2368</td>\n",
       "      <td>61303</td>\n",
       "      <td>2017-11-06 02:21:59</td>\n",
       "      <td>2020-09-20 21:08:11</td>\n",
       "      <td>86</td>\n",
       "      <td>If I thought COVID was fake, killed nobody, an...</td>\n",
       "      <td>[]</td>\n",
       "    </tr>\n",
       "  </tbody>\n",
       "</table>\n",
       "</div>"
      ],
      "text/plain": [
       "          username                                           acctdesc  \\\n",
       "0     AdamYoung329  Married, Father to two boys, huskies Nekola an...   \n",
       "1    LandonCraigie  Extremely muscular. Live in a remote castle wi...   \n",
       "2        drhoctor2  Everything that hasn't killed me has made me M...   \n",
       "3    DanaSmithTN04      Is some sanity really all that big of an ask?   \n",
       "4  PersistentObsvr  “I despise Trump with the intensity of a thous...   \n",
       "\n",
       "            location  following  followers  totaltweets        usercreatedts  \\\n",
       "0   Welland, Ontario        535        296         8577  2011-10-14 23:22:07   \n",
       "1             Canada       4994       1745         8619  2017-05-05 02:04:03   \n",
       "2  Southern Tier, NY       4740       3275       326202  2009-03-27 15:53:23   \n",
       "3                NaN        161        113         1928  2020-08-19 23:45:18   \n",
       "4   Indianapolis, IN       5001       2368        61303  2017-11-06 02:21:59   \n",
       "\n",
       "        tweetcreatedts  retweetcount  \\\n",
       "0  2020-09-21 02:47:57            86   \n",
       "1  2020-09-21 02:42:17            86   \n",
       "2  2020-09-21 00:11:58            86   \n",
       "3  2020-09-20 22:54:21            86   \n",
       "4  2020-09-20 21:08:11            86   \n",
       "\n",
       "                                                text hashtags  \n",
       "0  If I thought COVID was fake, killed nobody, an...       []  \n",
       "1  If I thought COVID was fake, killed nobody, an...       []  \n",
       "2  If I thought COVID was fake, killed nobody, an...       []  \n",
       "3  If I thought COVID was fake, killed nobody, an...       []  \n",
       "4  If I thought COVID was fake, killed nobody, an...       []  "
      ]
     },
     "execution_count": 88,
     "metadata": {},
     "output_type": "execute_result"
    }
   ],
   "source": [
    "aids_data.head() # see what our data frame looks like"
   ]
  },
  {
   "cell_type": "code",
   "execution_count": 91,
   "metadata": {
    "collapsed": false
   },
   "outputs": [
    {
     "data": {
      "text/plain": [
       "(186, 11)"
      ]
     },
     "execution_count": 91,
     "metadata": {},
     "output_type": "execute_result"
    }
   ],
   "source": [
    "aids_data.shape # tells us number of rows and columns"
   ]
  },
  {
   "cell_type": "markdown",
   "metadata": {},
   "source": [
    "## 3.1 Identifying top accounts"
   ]
  },
  {
   "cell_type": "markdown",
   "metadata": {},
   "source": [
    "Similar to our first analysis done with the data collected using GetOldTweets, we want to identify the accounts that post the most with regards to the hashtag #vaccinescauseaids. To do so we create a frequency dictionary and identify the top ten accounts."
   ]
  },
  {
   "cell_type": "code",
   "execution_count": 93,
   "metadata": {
    "collapsed": false
   },
   "outputs": [
    {
     "data": {
      "text/plain": [
       "0         AdamYoung329\n",
       "1        LandonCraigie\n",
       "2            drhoctor2\n",
       "3        DanaSmithTN04\n",
       "4      PersistentObsvr\n",
       "            ...       \n",
       "181       PaulVCooper1\n",
       "182       PaulVCooper1\n",
       "183       PaulVCooper1\n",
       "184            acape51\n",
       "185        thommcg1980\n",
       "Name: username, Length: 186, dtype: object"
      ]
     },
     "execution_count": 93,
     "metadata": {},
     "output_type": "execute_result"
    }
   ],
   "source": [
    "aids_data['username']"
   ]
  },
  {
   "cell_type": "code",
   "execution_count": 106,
   "metadata": {
    "collapsed": false
   },
   "outputs": [
    {
     "data": {
      "text/plain": [
       "PaulVCooper1       8\n",
       "jeremynewberger    4\n",
       "LeftYvonne         2\n",
       "kimbrdy            2\n",
       "Lauriefirelily     2\n",
       "                  ..\n",
       "LuvTexasRoses      2\n",
       "nomamao            2\n",
       "alexpokerguy       2\n",
       "jwharris           2\n",
       "LilyGreenLily      2\n",
       "Name: username, Length: 89, dtype: int64"
      ]
     },
     "execution_count": 106,
     "metadata": {},
     "output_type": "execute_result"
    }
   ],
   "source": [
    "freqCount = aids_data['username'].value_counts() # counts the frequency of each username\n",
    "freqCount"
   ]
  },
  {
   "cell_type": "code",
   "execution_count": 108,
   "metadata": {
    "collapsed": false
   },
   "outputs": [
    {
     "data": {
      "text/plain": [
       "{'PaulVCooper1': 8,\n",
       " 'jeremynewberger': 4,\n",
       " 'LeftYvonne': 2,\n",
       " 'kimbrdy': 2,\n",
       " 'Lauriefirelily': 2,\n",
       " 'JSmithBlogger': 2,\n",
       " 'shplangy': 2,\n",
       " 'lindadean3': 2,\n",
       " 'gartenrehn': 2,\n",
       " 'caroline7eliza': 2,\n",
       " 'yourexhubsnewgf': 2,\n",
       " 'skyaswriter': 2,\n",
       " 'IPFreel80094340': 2,\n",
       " 'harlequingloryb': 2,\n",
       " 'wmacghee': 2,\n",
       " 'Andre_DElena': 2,\n",
       " 'SarahSweetIowa': 2,\n",
       " 'jneutron1969': 2,\n",
       " 'BlownawayToo': 2,\n",
       " 'sarah_wonson': 2,\n",
       " 'tjsmith654': 2,\n",
       " 'amf1708': 2,\n",
       " 'DebbieDoesTwitt': 2,\n",
       " 'LandonCraigie': 2,\n",
       " 'TWakandaforever': 2,\n",
       " 'drg_geemanone': 2,\n",
       " 'sinpena14': 2,\n",
       " 'Bruceb2The': 2,\n",
       " 'sharitags': 2,\n",
       " 'LaviniaHilltopp': 2,\n",
       " 'FedorowMaya': 2,\n",
       " 'DJHJamesDeanFan': 2,\n",
       " 'Miss_Trendy11': 2,\n",
       " 'DrewsKey1133': 2,\n",
       " 'drhoctor2': 2,\n",
       " 'AnonymousRex12': 2,\n",
       " 'DanaSmithTN04': 2,\n",
       " 'dmrichiephd': 2,\n",
       " 'GoetzeSue': 2,\n",
       " 'bjpluslj': 2,\n",
       " 'JerseyGator71': 2,\n",
       " 'A_GlobalCitizen': 2,\n",
       " 'CindyDeetz': 2,\n",
       " 'King_Of_Shade': 2,\n",
       " 'earthwindskye': 2,\n",
       " 'vvsSalvaje': 2,\n",
       " 'deb_klipper': 2,\n",
       " 'AdamYoung329': 2,\n",
       " 'hlin_w': 2,\n",
       " 'MaraFeiger': 2,\n",
       " 'MIDNIGHT0521': 2,\n",
       " 'abensen11': 2,\n",
       " 'Crochethookfan': 2,\n",
       " 'casimpson54': 2,\n",
       " 'ChaChaMancini': 2,\n",
       " 'markyalita': 2,\n",
       " 'NeedMoreSlurpee': 2,\n",
       " 'Mariemccaskill2': 2,\n",
       " 'michelemg5': 2,\n",
       " 'FlowerChildLGBT': 2,\n",
       " 'TheWallStBull': 2,\n",
       " 'ChristieFiddle': 2,\n",
       " '1ctripp': 2,\n",
       " 'crackedscience': 2,\n",
       " 'thommcg1980': 2,\n",
       " 'MarkOphidian': 2,\n",
       " 'OlesonMoe': 2,\n",
       " 'MartinPujdak': 2,\n",
       " 'Erin6117': 2,\n",
       " 'PersistentObsvr': 2,\n",
       " 'lancegould': 2,\n",
       " 'liveinhope_': 2,\n",
       " 'Karamarie24yah1': 2,\n",
       " 'kimberlyybarra': 2,\n",
       " 'mynewtweets79': 2,\n",
       " 'OhhiRue': 2,\n",
       " 'FranSparks18': 2,\n",
       " 'Thelast_try': 2,\n",
       " 'PrrrrrRob': 2,\n",
       " 'KathiEdwards65': 2,\n",
       " 'DianeEugenio': 2,\n",
       " 'srobinson2020': 2,\n",
       " 'acape51': 2,\n",
       " 'RajLakra': 2,\n",
       " 'LuvTexasRoses': 2,\n",
       " 'nomamao': 2,\n",
       " 'alexpokerguy': 2,\n",
       " 'jwharris': 2,\n",
       " 'LilyGreenLily': 2}"
      ]
     },
     "execution_count": 108,
     "metadata": {},
     "output_type": "execute_result"
    }
   ],
   "source": [
    "freqDict = freqCount.to_dict() # creates a frequency dictionary\n",
    "freqDict"
   ]
  },
  {
   "cell_type": "code",
   "execution_count": 109,
   "metadata": {
    "collapsed": true
   },
   "outputs": [],
   "source": [
    "import collections\n",
    "import itertools\n",
    "\n",
    "# conversion to a sorted dictionary\n",
    "sorted_data = collections.OrderedDict(freqDict)\n",
    "\n",
    "\n",
    "# Initialize limit  \n",
    "N = 10 \n",
    "    \n",
    "# Using islice() + items()  \n",
    "# Get first N items in dictionary  \n",
    "topTweeters = dict(itertools.islice(sorted_data.items(), N)) "
   ]
  },
  {
   "cell_type": "code",
   "execution_count": 110,
   "metadata": {
    "collapsed": false
   },
   "outputs": [
    {
     "data": {
      "text/plain": [
       "{'PaulVCooper1': 8,\n",
       " 'jeremynewberger': 4,\n",
       " 'LeftYvonne': 2,\n",
       " 'kimbrdy': 2,\n",
       " 'Lauriefirelily': 2,\n",
       " 'JSmithBlogger': 2,\n",
       " 'shplangy': 2,\n",
       " 'lindadean3': 2,\n",
       " 'gartenrehn': 2,\n",
       " 'caroline7eliza': 2}"
      ]
     },
     "execution_count": 110,
     "metadata": {},
     "output_type": "execute_result"
    }
   ],
   "source": [
    "topTweeters"
   ]
  },
  {
   "cell_type": "markdown",
   "metadata": {},
   "source": [
    "## 3.2 Analyzing follower, following and tweets frequency"
   ]
  },
  {
   "cell_type": "markdown",
   "metadata": {},
   "source": [
    "In addition to finding the top accounts we can also look at the number of followers and number of accounts each user is following. We can also look at the number of tweets of each user and plot these in a historgram for each of these. The following is code to visualize the three quantities we are interested in."
   ]
  },
  {
   "cell_type": "markdown",
   "metadata": {},
   "source": [
    "### 3.2.1 Plotting total tweet counts"
   ]
  },
  {
   "cell_type": "code",
   "execution_count": 135,
   "metadata": {
    "collapsed": false
   },
   "outputs": [
    {
     "data": {
      "text/plain": [
       "0        8577\n",
       "1        8619\n",
       "2      326202\n",
       "3        1928\n",
       "4       61303\n",
       "        ...  \n",
       "181     35301\n",
       "182     35301\n",
       "183     35301\n",
       "184      1772\n",
       "185     13366\n",
       "Name: totaltweets, Length: 186, dtype: int64"
      ]
     },
     "execution_count": 135,
     "metadata": {},
     "output_type": "execute_result"
    }
   ],
   "source": [
    "tweetNum = aids_data['totaltweets'] # number of followers of each user\n",
    "tweetNum"
   ]
  },
  {
   "cell_type": "code",
   "execution_count": 137,
   "metadata": {
    "collapsed": false
   },
   "outputs": [
    {
     "data": {
      "image/png": "[encoded data removed]",
      "text/plain": [
       "<Figure size 576x432 with 1 Axes>"
      ]
     },
     "metadata": {
      "needs_background": "light"
     },
     "output_type": "display_data"
    }
   ],
   "source": [
    "fig, ax = plt.subplots(figsize=(8, 6))\n",
    "\n",
    "tweetNum.hist(label = \"hist\")\n",
    "plt.title(\"Number of tweets for users using #vaccinescauseaids\")\n",
    "ax.set_xlabel(\"number of tweets\")\n",
    "ax.set_ylabel(\"frequency\")\n",
    "plt.show()"
   ]
  },
  {
   "cell_type": "markdown",
   "metadata": {},
   "source": [
    "### 3.2.2 Plotting distribution of number of followers"
   ]
  },
  {
   "cell_type": "markdown",
   "metadata": {},
   "source": [
    "With users engaging in antivaccination conversations the number of followers and people the users are following can give us a sense of the reach of these users. Thus the following two subsections explore the number of followers and number of accounts these users follow."
   ]
  },
  {
   "cell_type": "code",
   "execution_count": 139,
   "metadata": {
    "collapsed": false
   },
   "outputs": [
    {
     "data": {
      "text/plain": [
       "0       296\n",
       "1      1745\n",
       "2      3275\n",
       "3       113\n",
       "4      2368\n",
       "       ... \n",
       "181     305\n",
       "182     305\n",
       "183     305\n",
       "184     110\n",
       "185     102\n",
       "Name: followers, Length: 186, dtype: int64"
      ]
     },
     "execution_count": 139,
     "metadata": {},
     "output_type": "execute_result"
    }
   ],
   "source": [
    "followerNum = aids_data['followers'] # number of followers of each user\n",
    "followerNum "
   ]
  },
  {
   "cell_type": "code",
   "execution_count": 142,
   "metadata": {
    "collapsed": false
   },
   "outputs": [
    {
     "data": {
      "image/png": "[encoded data removed]",
      "text/plain": [
       "<Figure size 576x432 with 1 Axes>"
      ]
     },
     "metadata": {
      "needs_background": "light"
     },
     "output_type": "display_data"
    }
   ],
   "source": [
    "fig, ax = plt.subplots(figsize=(8, 6))\n",
    "\n",
    "followerNum.hist(label = \"hist\")\n",
    "plt.title(\"Number of followers for users using #vaccinescauseaids\")\n",
    "ax.set_xlabel(\"number of followers\")\n",
    "ax.set_ylabel(\"frequency\")\n",
    "plt.show()"
   ]
  },
  {
   "cell_type": "markdown",
   "metadata": {},
   "source": [
    "### 3.2.2 Plotting distribution of number of accounts being followed"
   ]
  },
  {
   "cell_type": "code",
   "execution_count": 141,
   "metadata": {
    "collapsed": false
   },
   "outputs": [
    {
     "data": {
      "text/plain": [
       "0       535\n",
       "1      4994\n",
       "2      4740\n",
       "3       161\n",
       "4      5001\n",
       "       ... \n",
       "181     493\n",
       "182     493\n",
       "183     493\n",
       "184     735\n",
       "185      93\n",
       "Name: following, Length: 186, dtype: int64"
      ]
     },
     "execution_count": 141,
     "metadata": {},
     "output_type": "execute_result"
    }
   ],
   "source": [
    "followingNum = aids_data['following'] # number of accounts each user follows\n",
    "followingNum "
   ]
  },
  {
   "cell_type": "code",
   "execution_count": 144,
   "metadata": {
    "collapsed": false
   },
   "outputs": [
    {
     "data": {
      "image/png": "[encoded data removed]",
      "text/plain": [
       "<Figure size 576x432 with 1 Axes>"
      ]
     },
     "metadata": {
      "needs_background": "light"
     },
     "output_type": "display_data"
    }
   ],
   "source": [
    "fig, ax = plt.subplots(figsize=(8, 6))\n",
    "\n",
    "followingNum.hist(label = \"hist\")\n",
    "plt.title(\"Distribution of number of accounts users using #vaccinescauseaids follow \")\n",
    "ax.set_xlabel(\"number following\")\n",
    "ax.set_ylabel(\"frequency\")\n",
    "plt.show()"
   ]
  },
  {
   "cell_type": "code",
   "execution_count": null,
   "metadata": {
    "collapsed": true
   },
   "outputs": [],
   "source": []
  }
 ],
 "metadata": {
  "kernelspec": {
   "display_name": "Python 3",
   "language": "python",
   "name": "python3"
  },
  "language_info": {
   "codemirror_mode": {
    "name": "ipython",
    "version": 3
   },
   "file_extension": ".py",
   "mimetype": "text/x-python",
   "name": "python",
   "nbconvert_exporter": "python",
   "pygments_lexer": "ipython3",
   "version": "3.7.6"
  }
 },
 "nbformat": 4,
 "nbformat_minor": 2
}
